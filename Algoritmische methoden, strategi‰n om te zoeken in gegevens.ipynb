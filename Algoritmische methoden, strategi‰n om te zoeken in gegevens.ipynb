{
 "cells": [
  {
   "cell_type": "markdown",
   "id": "7b838314-787d-47f9-9f1e-5dbb911e0a04",
   "metadata": {},
   "source": [
    "# Algoritmische technieken: strategiën om gegevens te sorteren"
   ]
  },
  {
   "cell_type": "markdown",
   "id": "4076e39e-871f-4ce1-a051-7ca3dcacad8e",
   "metadata": {},
   "source": [
    "#### De complexiteit van een algoritme\n",
    "De complexiteit van een algoritme geeft aan hoe efficiënt een functie is in tijd en ruimte. Meestal wordt gebruik gemaakt van een asymptotische notatie, de <b>Big-O</b> notatie, die het worst-case scenario beschrijft. \n",
    "##### Tijdcomplexiteit\n",
    "Wanneer je het hebt over tijdcomplexiteit gaat het over het aantal vergelijkingsopdrachten en het doorlopen van de lussen in jouw implementatie, en hoe dat aantal toeneemt bij een toenemend aantal elementen in de invoer. Waneer bijvoorbeeld een lus twee keer volledig wordt doorlopen zoals in het codestukje hieronder spreek je over een complexiteit $O(n^2)$."
   ]
  },
  {
   "cell_type": "code",
   "execution_count": 1,
   "id": "62a68d79-9a59-4790-9691-4749142c874d",
   "metadata": {},
   "outputs": [
    {
     "name": "stdout",
     "output_type": "stream",
     "text": [
      "n² = 100\n",
      "Aantal iteraties = 100\n"
     ]
    }
   ],
   "source": [
    "def een_functie(n):\n",
    "    iteraties = 0\n",
    "    for i in range(n):\n",
    "        for j in range(n):\n",
    "            iteraties = iteraties + 1\n",
    "            \n",
    "    print(\"n² =\", n**2)\n",
    "    print(\"Aantal iteraties =\", iteraties)\n",
    "\n",
    "een_functie(10)"
   ]
  },
  {
   "cell_type": "markdown",
   "id": "369d08ee-65cb-49ec-921e-a138c4c4483b",
   "metadata": {},
   "source": [
    "#### Ruimtecomplexiteit\n",
    "Ruimtecomplexiteit bespreekt, het asymptotische maximum van het geheugengebruik van een functie in vergelijking tot het aantal elementen in de invoer. Wordt er geen extra geheugen toegewezen, spreek je van ruimtecomplexiteit $O(1)$. Dit kan enkel het geval zijn bij iteratieve algoritmen, waardoor deze algoritmen het meest geschikt zijn voor platformen waar geheugengebruik een belangrijk aandachtspunt is zoals embedded systemen."
   ]
  },
  {
   "cell_type": "markdown",
   "id": "d915f4c3-abd6-4916-a530-753d74f07460",
   "metadata": {},
   "source": [
    "### Enkele algoritmen voor het sorteren van gegevens\n",
    "Lineair zoeken is de enige oplossing wanneer je werkt met niet gesorteerde gegevens, wil je sneller zoeken in de gegevens dan moet je beschikken over gesorteerde gegevens. Het sorteren op zich gaat steeds gepaard met een complexiteit die in de meest ideale gevallen neerkomt op $O\\left(n\\cdot \\text{log}(n) \\right)$. Het is dus niet altijd verstandig om de gegevens te sorteren wanneer je slechts een beperkt aantal keer moet zoeken in de gegevens.  \n",
    "#### Eenvoudig bubbel-sorteren\n",
    "Een eenvoudig sorteeralgoritme is het bubbelsorteeralgoritme, het dankt zijn naam aan het effect dat de grootste waarden in de gegevenslijst naar boven borrelen zoals de bubbels in een glas frisdrank. Mede dankzij zijn eenvoud is het algoritme echter niet efficiënt en is de tijdscomplexiteit opgegeven als $O(n^2)$.\n",
    "Het bubbelsorteeralgoritme itereert door de gegevens en vergelijkt $L[n]$ en $L[n+1]$ is de waarde met index $n$ groter dan die met index $n+1$ worden beiden van plaats verwisseld. Vervolgens wordt de iterator n opgehoogt. en herhaalt de cyclus. Na de eerste volledige iteratie staat de allergrootste waarde uit de lijst achteraan in de lijst. Dat deel van de lijst is dan geordend, en wordt tijdens de daarop volgende iteratie niet meer doorlopen.  Onderstaande animatie verduidelijkt de werkwijze.\n",
    "<p style=\"text-align:center;\"><img src=\"Sorting_bubblesort_anim.gif\"></p>"
   ]
  },
  {
   "cell_type": "code",
   "execution_count": 32,
   "id": "7d7e6bbd-b3dd-4298-8f27-a50bb2d7145a",
   "metadata": {},
   "outputs": [],
   "source": [
    "def bubbel_sort(lijst):\n",
    "    iteraties = 0\n",
    "    print(\"Start\", iteraties, \"iteraties: \\t\", lijst )\n",
    "\n",
    "    # Laat j waarden aannemen van 1 tot de lengte van de lijst \n",
    "    for j in range(1, len(lijst)):\n",
    "        for i in range(len(lijst)-j):\n",
    "            if lijst[i] > lijst[i+1]:\n",
    "                lijst[i], lijst[i+1] = lijst[i+1], lijst[i]\n",
    "\n",
    "            iteraties += 1\n",
    "            print(\"Na\", iteraties, \"iteraties: \\t\", lijst )\n",
    "    return lijst"
   ]
  },
  {
   "cell_type": "code",
   "execution_count": 33,
   "id": "c9f68469-a06c-439f-b291-03962bdb376c",
   "metadata": {},
   "outputs": [
    {
     "name": "stdout",
     "output_type": "stream",
     "text": [
      "Start 0 iteraties: \t [5, 4, 3, 2, 1]\n",
      "Na 1 iteraties: \t [4, 5, 3, 2, 1]\n",
      "Na 2 iteraties: \t [4, 3, 5, 2, 1]\n",
      "Na 3 iteraties: \t [4, 3, 2, 5, 1]\n",
      "Na 4 iteraties: \t [4, 3, 2, 1, 5]\n",
      "Na 5 iteraties: \t [3, 4, 2, 1, 5]\n",
      "Na 6 iteraties: \t [3, 2, 4, 1, 5]\n",
      "Na 7 iteraties: \t [3, 2, 1, 4, 5]\n",
      "Na 8 iteraties: \t [2, 3, 1, 4, 5]\n",
      "Na 9 iteraties: \t [2, 1, 3, 4, 5]\n",
      "Na 10 iteraties: \t [1, 2, 3, 4, 5]\n"
     ]
    },
    {
     "data": {
      "text/plain": [
       "[1, 2, 3, 4, 5]"
      ]
     },
     "execution_count": 33,
     "metadata": {},
     "output_type": "execute_result"
    }
   ],
   "source": [
    "bubbel_sort([5,4,3,2,1])"
   ]
  },
  {
   "cell_type": "markdown",
   "id": "5924c665-92ca-44e5-9880-11bd4f1d9587",
   "metadata": {},
   "source": [
    "Het bubbel sorteer algoritme wordt hierboven geïllustreerd met een korte ongesorteerde lijst. <br> Het moet gezegd, dat ondanks de eerder nadelige tijdcomplexiteit van het algoritme, de geheugenimpact van het algoritme met $O(1)$ het beste in zijn soort is. Dit kan je makkelijk inzien omdat er geen nieuwe lijsten worden aangemaakt en alle bewerkingen in de bestaande lijst worden uitgevoerd."
   ]
  },
  {
   "cell_type": "markdown",
   "id": "2eacd7bb-0209-4949-bfc1-2a04796f9c1f",
   "metadata": {},
   "source": [
    "#### Een ander eenvoudig sorteeralgoritme: insertion sort\n",
    "Een ander, intuïtief, eenvoudig sorteeralgoritme is het insertion sort algoritme. Dit algoritme of het bubbelsortalgoritme is overigens het algoritme dat programmeursleerlingen opstellen als je hen de opdracht geeft een algoritme uit te werken om een lijst van 10 waarden te sorteren. \n",
    "<p style=\"text-align:center;\"><img src=\"insertionsort.png\"></p>\n",
    "Bovenstaande figuur illustreert de werking van het insertion sort algoritme. De werking is net zoals bij bubble sort gebaseerd op twee geneste lussen maar waar het bubblesort van het begin tot het einde itereert met de grootste overblijvende waarden itereert insertionsort tot er een waarde gevonden wordt die kleiner is dan voorgaande. Dan start een tweede iteratie van de huidige positie in de lijst tot die waarde op zijn correcte locatie staat. "
   ]
  },
  {
   "cell_type": "markdown",
   "id": "7681f3cc-4c76-42b9-a12b-5c5069419af3",
   "metadata": {},
   "source": [
    "Het framework van de insertionsortfunctie is vergelijkbaar met dat van bubble_sort:\n",
    "````python\n",
    "def insertion_sort(lijst):\n",
    "    # Itereer door alle waarden van de lijst\n",
    "    for j in range(1, len(lijst)):\n",
    "        # Als elmement i < i - 1, verwissel beiden van plaats\n",
    "````\n",
    "Maar in de tweede iteratie zal je, waar bubble_sort de grootste waarde naar achteren in de lijst verplaatst, nu de kleinere waarden naar vooraan verplaatsen. De lijst wordt daarom van beneden naar boven gesorteerd, terwijl bij bubble de grootste waarden naar achteren bubbelen en daar de gesorteerde lijst ontstaat. Onderstaande animatie verduidelijkt de werking van insertion_sort.\n",
    "<p style=\"text-align:center;\"><img src=\"insertion_sort.gif\"></p>"
   ]
  },
  {
   "cell_type": "markdown",
   "id": "c1b8a915-3b48-40e3-b7b8-22686e53e41d",
   "metadata": {},
   "source": [
    "#### Oefening: schrijf zelf een implementatie voor insertion_sort\n",
    "Ga je ook even na:\n",
    "<ul>\n",
    "    <li>Hoeveel iteraties insertion_sort gebruikt voor een bijna gesorteerde lijst,</li>\n",
    "    <li>Wat is het worst case voor zowel bubble_sort als insertion_sort,</li>\n",
    "    <li>Welk van beide algoritmen presteert over het algemeen het beste.</li>\n",
    "</ul>"
   ]
  },
  {
   "cell_type": "markdown",
   "id": "d0f796fa-d058-4e13-87ff-1384d9d8c962",
   "metadata": {},
   "source": [
    "### Recursief sorteren\n",
    "Naast iteratief sorteren bestaan er ook recursieve algoritmen die het aantal iteraties drastisch reduceren, al gaat het reduceren van de iteraties dan wel gepaard met recursies (hier later meer over). \n",
    "#### Quick_sort\n",
    "Het quick_sort algoritme draait om het opdelen van de datastructuur rond een pivot (spil) \n",
    "<p style=\"text-align:center;\"><img src=\"quick_sort_hoare.gif\"></p>\n",
    "Vervolgens wordt de lijst verdeeld rond de spil. Een deel van de lijst dat kleiner of gelijk is aan de spil en een deel dat groter is dan de spil.<br>\n",
    "Daarop worden de beide bekomen lijsten opnieuw gesorteerd met de quick_sort functie.\n",
    "De resultaat lijst is de concatenatie van de \"kleiner of gelijk aan spil\" lijst, de spil en de \"groter dan spil\" lijst."
   ]
  },
  {
   "cell_type": "markdown",
   "id": "aad86a53-d5b7-4ffc-b5b6-405888f28dfd",
   "metadata": {},
   "source": [
    "### Oefening\n",
    "<ol>\n",
    "    <li>Zoek op het intenet een ander sorteeralgoritme op en schrijf een implementatie voor dat algoritme, vergelijk het algoritme met de besproken algoritmen.</li>\n",
    "    <li>Ga na hoe efficiënt de besproken algoritmen zijn in tijd en ruimte.</li>\n",
    "    <li>...</li>\n",
    "</ol>"
   ]
  }
 ],
 "metadata": {
  "kernelspec": {
   "display_name": "Python 3 (ipykernel)",
   "language": "python",
   "name": "python3"
  },
  "language_info": {
   "codemirror_mode": {
    "name": "ipython",
    "version": 3
   },
   "file_extension": ".py",
   "mimetype": "text/x-python",
   "name": "python",
   "nbconvert_exporter": "python",
   "pygments_lexer": "ipython3",
   "version": "3.11.7"
  },
  "widgets": {
   "application/vnd.jupyter.widget-state+json": {
    "state": {},
    "version_major": 2,
    "version_minor": 0
   }
  }
 },
 "nbformat": 4,
 "nbformat_minor": 5
}
