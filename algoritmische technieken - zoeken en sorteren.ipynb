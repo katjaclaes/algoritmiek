{
 "cells": [
  {
   "cell_type": "markdown",
   "metadata": {},
   "source": [
    "# Algoritmische technieken: Zoeken en Sorteren\n",
    "------------------\n",
    "\n",
    "\"Het zoekprobleem\" bestaat uit het vinden een\n",
    "gegeven data element in een grote hoop data. De toepassingen\n",
    "hiervan zijn haast niet te tellen. Denk maar aan een\n",
    "woordenboekapp waarin je verklaringen of vertalingen van een gegeven woord\n",
    "kan opzoeken, aan\n",
    "het elektronische telefoonboek dat in je GSM zit, aan Google die je snel\n",
    "de sites voor gevraagde sleutelwoorden kan leveren, enz. Omwille van de\n",
    "gigantische hoeveelheid toepassingen van \"het zoekprobleem\" is het \n",
    "mogelijk om hierover boeken vol te schrijven. In dit hoofdstuk\n",
    "beperken we ons tot de basis: we bestuderen de bekendste algoritmen om\n",
    "een element in een lijst te zoeken.\n",
    "\n",
    "\"Het sorteerprobleem\" is al even alomtegenwoordig. Denk opnieuw aan het\n",
    "telefoonboek in je GSM dat alfabetisch gesorteerd is. Een ander\n",
    "voorbeeld is de \"sort\" menukeuze in het beroemde Excel rekenblad,\n",
    "waarmee je het rekenblad kan sorteren op een bepaalde kolom of rij. Ten\n",
    "slotte vermelden we nog \"de flapjes\" in iTunes waarmee je je playlists\n",
    "kan sorteren op titel, artiest, enz. Dit zijn allen voorbeelden van\n",
    "lijsten met gegevens erin die door de computer herschikt dienen te\n",
    "worden zodat de gegevens uiteindelijk in gesorteerde volgorde komen te\n",
    "staan.\n",
    "\n",
    "## De complexiteit van een algoritme\n",
    "-----------------\r",
    "De complexiteit van een algoritme geeft aan hoe efficiënt een functie is in tijd en ruimte. Meestal wordt gebruik gemaakt van een asymptotische notatie, de <b>Big-O</b> notatie, die het worst-case scenario beschrijft. \n",
    "### Tijdcomplexiteit\n",
    "Wanneer je het hebt over tijdcomplexiteit gaat het over het aantal vergelijkingsopdrachten en het doorlopen van de lussen in jouw implementatie, en hoe dat aantal toeneemt bij een toenemend aantal elementen in de invoer. Waneer bijvoorbeeld een lus twee keer volledig wordt doorlopen zoals in het codestukje hieronder spreek je over een complexiteit $O(n^2)$.was. "
   ]
  },
  {
   "cell_type": "code",
   "execution_count": 1,
   "metadata": {},
   "outputs": [
    {
     "name": "stdout",
     "output_type": "stream",
     "text": [
      "n² = 100\n",
      "Aantal iteraties = 100\n"
     ]
    }
   ],
   "source": [
    "def een_functie(n):\n",
    "    iteraties = 0\n",
    "    for i in range(n):\n",
    "        for j in range(n):\n",
    "            iteraties = iteraties + 1\n",
    "            \n",
    "    print(\"n² =\", n**2)\n",
    "    print(\"Aantal iteraties =\", iteraties)\n",
    "\n",
    "een_functie(10)"
   ]
  },
  {
   "cell_type": "markdown",
   "metadata": {},
   "source": [
    "### Ruimtecomplexiteit\n",
    "Ruimtecomplexiteit bespreekt, het asymptotische maximum van het geheugengebruik van een functie in vergelijking tot het aantal elementen in de invoer. Wordt er geen extra geheugen toegewezen, spreek je van ruimtecomplexiteit $O(1)$. Dit kan enkel het geval zijn bij iteratieve algoritmen, waardoor deze algoritmen het meest geschikt zijn voor platformen waar geheugengebruik een belangrijk aandachtspunt is zoals embedded systemen."
   ]
  },
  {
   "cell_type": "markdown",
   "metadata": {},
   "source": [
    "## Zoeken in Lijsten\n",
    "-----------------\n",
    "\n",
    "Het eerste probleem waar we ons in dit hoofdstuk op toespitsen is het\n",
    "zoeken van de positie van een gegeven element in een gegeven lineaire datastructuur. \n",
    "Dit is wat achter de schermen gebeurt als je bijvoorbeeld\n",
    "een naam opzoekt in het telefoonboek van je GSM of als je een woord\n",
    "opzoekt in een elektronisch woordenboek. Concreet gaan we zoeken naar de index van \n",
    "een gegeven element in een Python lijst van lengte $n$. Maar een groot stuk van de \n",
    "bespreking en analyse geldt in het algemeen voor zoeken in een lineaire structuur.\n",
    "Bedoeling is dus om een Python\n",
    "functie `find(lst,elm)` te schrijven die het elementje `elm` opzoekt in\n",
    "de lijst `lst`. Op zich klinkt dit wat raar: waarom een element zoeken\n",
    "in een lijst als je dat element al hebt? Soms is het op zich belangrijk om te \n",
    "kunnen controleren of een gegeven element in een lange lijst voorkomt, bv heb ik \n",
    "een telefoonnummer voor *Jan*. Een andere nuance is dat\n",
    "`find` de *index* van dat element gaat teruggeven. Je vindt dan in je \n",
    "telefoonbook naast de naam die je opzocht het telefoonnummer dat je zocht. \n",
    "Er moet ook een manier zijn om aan te geven dat het gezochte element niet\n",
    "in de lijst voorkomt. Onderstaande implementaties geven dan de lengte van de lijst \n",
    "terug.  Herinner dat de grootst mogelijk index `len(lst)-1` is, dus als je een te \n",
    "grote index terugkrijgt weet je dat het element niet gevonden werd. Soms geven \n",
    "zoekalgoritmes bv. `-1` of `False` terug om aan te geven dat het element niet \n",
    "gevonden werd. Op de plaats in je code waar je de `find` aanroept zal je dan moet \n",
    "controleren wat de  terugkeerwaarde is en daarrond dan de juist beslissing nemen.\n",
    "\n",
    "### Lineair Zoeken\n",
    "\n",
    "Het eerste algoritme waarmee we `find` kunnen realiseren heet *lineair\n",
    "zoeken*. Het is de meest naïeve oplossing van het probleem: we lopen\n",
    "m.b.v. een `while` lus gewoon de hele lijst van voor naar achter af op\n",
    "zoek naar het element. \n",
    "\n",
    "De procedure initialiseert een tellertje `idx` op 0 en verhoogt dat (zie\n",
    "`idx = idx+1`) in elke slag van de iteratie. In de test van de `while`\n",
    "moeten we twee condities aftoetsen. Ten eerste dienen we ervoor te\n",
    "zorgen dat er gestopt wordt indien de hele lijst (onsuccesvol) werd\n",
    "doorlopen. Dit doen we door onze teller te vergelijken met de lengte van\n",
    "de lijst. Ten tweede dienen we na te kijken of we het gewenste elementje\n",
    "misschien gevonden hebben. In dat laatste geval wordt het zoekproces\n",
    "gestopt. De laatste lijn `return idx` geeft hetzij de correcte index\n",
    "weer, hetzij de lengte van de lijst om aan te geven dat het zoeken niet\n",
    "succesvol was. "
   ]
  },
  {
   "cell_type": "code",
   "execution_count": 2,
   "metadata": {},
   "outputs": [],
   "source": [
    "def find(lst, elm):\n",
    "    idx = 0\n",
    "    while idx < len(lst) and lst[idx] != elm:\n",
    "        idx = idx+1\n",
    "    return idx"
   ]
  },
  {
   "cell_type": "code",
   "execution_count": 3,
   "metadata": {},
   "outputs": [],
   "source": [
    "test = [\"jan\",\"ann\",\"els\",\"jef\",\"mia\"]"
   ]
  },
  {
   "cell_type": "code",
   "execution_count": 4,
   "metadata": {},
   "outputs": [
    {
     "data": {
      "text/plain": [
       "2"
      ]
     },
     "execution_count": 4,
     "metadata": {},
     "output_type": "execute_result"
    }
   ],
   "source": [
    "find(test, \"els\")"
   ]
  },
  {
   "cell_type": "code",
   "execution_count": 5,
   "metadata": {},
   "outputs": [
    {
     "data": {
      "text/plain": [
       "5"
      ]
     },
     "execution_count": 5,
     "metadata": {},
     "output_type": "execute_result"
    }
   ],
   "source": [
    "find(test, \"theo\")"
   ]
  },
  {
   "cell_type": "markdown",
   "metadata": {},
   "source": [
    "We hebben in een aparte module `Tracing` een heleboel functies klaargezet die toelaten om de werking van de algoritmen in dit hoofdstuk op te volgen. We leggen deze niet uit omdat het gewoon een heleboel prutswerk is om in verschillende kleuren en geaccentueerd af te printen.\n",
    "\n",
    "Voor de `find` wordt het element waarnaar gezocht wordt eerst in het geel afgeprint. Dan wordt voor elke slag van de iteratie de hele lijst waarin gezocht wordt uitgeprint. Daarbij worden verschillende kleuren gebruikt. Het element dat in deze iteratieslag vergeleken wordt, i.e. het element op positie `idx` wordt in het geel geaccentueerd. Alle elementen die in een vorige iteratieslag al werden bekeken staan geel gekleurd. Alle elementen die nog niet werden bekeken zijn blauw gekleurd. Tenslotte wordt de gevonden positie met een groen pijltje aangeduid of, indien het element niet in de lijst voorkomt wordt een rood kruis getoond.\n",
    "\n",
    "De eerste trace toont hoe `3` wordt gevonden in de voorbeeldlijst `[4,2,7,5,1,8,2,5,3,4,2,5]` op de achtste positie. Er zijn daarvoor $9$ vergelijkingen gebeurd. De tweede trace toont dat er minder stappen nodig zijn als het gezochte element meer vooraan in de lijst staat. Het getal `2` wordt al gevonden  na slechts 2 elementen bekeken te hebben. Het derde experimentje toont dat alle elementen van de lijst moeten afgelopen worden voor je kan concluderen dat een element niet aanwezig is."
   ]
  },
  {
   "cell_type": "code",
   "execution_count": 6,
   "metadata": {},
   "outputs": [],
   "source": [
    "from Tracing import *"
   ]
  },
  {
   "cell_type": "code",
   "execution_count": 7,
   "metadata": {},
   "outputs": [
    {
     "name": "stdout",
     "output_type": "stream",
     "text": [
      "\u001b[1m\u001b[33m3\u001b[00m\u001b[0m \n",
      "\u001b[1m\u001b[43m4\u001b[00m\u001b[0m \u001b[1m\u001b[34m2\u001b[00m\u001b[0m \u001b[1m\u001b[34m7\u001b[00m\u001b[0m \u001b[1m\u001b[34m5\u001b[00m\u001b[0m \u001b[1m\u001b[34m1\u001b[00m\u001b[0m \u001b[1m\u001b[34m8\u001b[00m\u001b[0m \u001b[1m\u001b[34m2\u001b[00m\u001b[0m \u001b[1m\u001b[34m5\u001b[00m\u001b[0m \u001b[1m\u001b[34m3\u001b[00m\u001b[0m \u001b[1m\u001b[34m4\u001b[00m\u001b[0m \u001b[1m\u001b[34m2\u001b[00m\u001b[0m \u001b[1m\u001b[34m5\u001b[00m\u001b[0m \n",
      "\u001b[1m\u001b[37m4\u001b[00m\u001b[0m \u001b[1m\u001b[43m2\u001b[00m\u001b[0m \u001b[1m\u001b[34m7\u001b[00m\u001b[0m \u001b[1m\u001b[34m5\u001b[00m\u001b[0m \u001b[1m\u001b[34m1\u001b[00m\u001b[0m \u001b[1m\u001b[34m8\u001b[00m\u001b[0m \u001b[1m\u001b[34m2\u001b[00m\u001b[0m \u001b[1m\u001b[34m5\u001b[00m\u001b[0m \u001b[1m\u001b[34m3\u001b[00m\u001b[0m \u001b[1m\u001b[34m4\u001b[00m\u001b[0m \u001b[1m\u001b[34m2\u001b[00m\u001b[0m \u001b[1m\u001b[34m5\u001b[00m\u001b[0m \n",
      "\u001b[1m\u001b[37m4\u001b[00m\u001b[0m \u001b[1m\u001b[37m2\u001b[00m\u001b[0m \u001b[1m\u001b[43m7\u001b[00m\u001b[0m \u001b[1m\u001b[34m5\u001b[00m\u001b[0m \u001b[1m\u001b[34m1\u001b[00m\u001b[0m \u001b[1m\u001b[34m8\u001b[00m\u001b[0m \u001b[1m\u001b[34m2\u001b[00m\u001b[0m \u001b[1m\u001b[34m5\u001b[00m\u001b[0m \u001b[1m\u001b[34m3\u001b[00m\u001b[0m \u001b[1m\u001b[34m4\u001b[00m\u001b[0m \u001b[1m\u001b[34m2\u001b[00m\u001b[0m \u001b[1m\u001b[34m5\u001b[00m\u001b[0m \n",
      "\u001b[1m\u001b[37m4\u001b[00m\u001b[0m \u001b[1m\u001b[37m2\u001b[00m\u001b[0m \u001b[1m\u001b[37m7\u001b[00m\u001b[0m \u001b[1m\u001b[43m5\u001b[00m\u001b[0m \u001b[1m\u001b[34m1\u001b[00m\u001b[0m \u001b[1m\u001b[34m8\u001b[00m\u001b[0m \u001b[1m\u001b[34m2\u001b[00m\u001b[0m \u001b[1m\u001b[34m5\u001b[00m\u001b[0m \u001b[1m\u001b[34m3\u001b[00m\u001b[0m \u001b[1m\u001b[34m4\u001b[00m\u001b[0m \u001b[1m\u001b[34m2\u001b[00m\u001b[0m \u001b[1m\u001b[34m5\u001b[00m\u001b[0m \n",
      "\u001b[1m\u001b[37m4\u001b[00m\u001b[0m \u001b[1m\u001b[37m2\u001b[00m\u001b[0m \u001b[1m\u001b[37m7\u001b[00m\u001b[0m \u001b[1m\u001b[37m5\u001b[00m\u001b[0m \u001b[1m\u001b[43m1\u001b[00m\u001b[0m \u001b[1m\u001b[34m8\u001b[00m\u001b[0m \u001b[1m\u001b[34m2\u001b[00m\u001b[0m \u001b[1m\u001b[34m5\u001b[00m\u001b[0m \u001b[1m\u001b[34m3\u001b[00m\u001b[0m \u001b[1m\u001b[34m4\u001b[00m\u001b[0m \u001b[1m\u001b[34m2\u001b[00m\u001b[0m \u001b[1m\u001b[34m5\u001b[00m\u001b[0m \n",
      "\u001b[1m\u001b[37m4\u001b[00m\u001b[0m \u001b[1m\u001b[37m2\u001b[00m\u001b[0m \u001b[1m\u001b[37m7\u001b[00m\u001b[0m \u001b[1m\u001b[37m5\u001b[00m\u001b[0m \u001b[1m\u001b[37m1\u001b[00m\u001b[0m \u001b[1m\u001b[43m8\u001b[00m\u001b[0m \u001b[1m\u001b[34m2\u001b[00m\u001b[0m \u001b[1m\u001b[34m5\u001b[00m\u001b[0m \u001b[1m\u001b[34m3\u001b[00m\u001b[0m \u001b[1m\u001b[34m4\u001b[00m\u001b[0m \u001b[1m\u001b[34m2\u001b[00m\u001b[0m \u001b[1m\u001b[34m5\u001b[00m\u001b[0m \n",
      "\u001b[1m\u001b[37m4\u001b[00m\u001b[0m \u001b[1m\u001b[37m2\u001b[00m\u001b[0m \u001b[1m\u001b[37m7\u001b[00m\u001b[0m \u001b[1m\u001b[37m5\u001b[00m\u001b[0m \u001b[1m\u001b[37m1\u001b[00m\u001b[0m \u001b[1m\u001b[37m8\u001b[00m\u001b[0m \u001b[1m\u001b[43m2\u001b[00m\u001b[0m \u001b[1m\u001b[34m5\u001b[00m\u001b[0m \u001b[1m\u001b[34m3\u001b[00m\u001b[0m \u001b[1m\u001b[34m4\u001b[00m\u001b[0m \u001b[1m\u001b[34m2\u001b[00m\u001b[0m \u001b[1m\u001b[34m5\u001b[00m\u001b[0m \n",
      "\u001b[1m\u001b[37m4\u001b[00m\u001b[0m \u001b[1m\u001b[37m2\u001b[00m\u001b[0m \u001b[1m\u001b[37m7\u001b[00m\u001b[0m \u001b[1m\u001b[37m5\u001b[00m\u001b[0m \u001b[1m\u001b[37m1\u001b[00m\u001b[0m \u001b[1m\u001b[37m8\u001b[00m\u001b[0m \u001b[1m\u001b[37m2\u001b[00m\u001b[0m \u001b[1m\u001b[43m5\u001b[00m\u001b[0m \u001b[1m\u001b[34m3\u001b[00m\u001b[0m \u001b[1m\u001b[34m4\u001b[00m\u001b[0m \u001b[1m\u001b[34m2\u001b[00m\u001b[0m \u001b[1m\u001b[34m5\u001b[00m\u001b[0m \n",
      "\u001b[1m\u001b[37m4\u001b[00m\u001b[0m \u001b[1m\u001b[37m2\u001b[00m\u001b[0m \u001b[1m\u001b[37m7\u001b[00m\u001b[0m \u001b[1m\u001b[37m5\u001b[00m\u001b[0m \u001b[1m\u001b[37m1\u001b[00m\u001b[0m \u001b[1m\u001b[37m8\u001b[00m\u001b[0m \u001b[1m\u001b[37m2\u001b[00m\u001b[0m \u001b[1m\u001b[37m5\u001b[00m\u001b[0m \u001b[1m\u001b[43m3\u001b[00m\u001b[0m \u001b[1m\u001b[34m4\u001b[00m\u001b[0m \u001b[1m\u001b[34m2\u001b[00m\u001b[0m \u001b[1m\u001b[34m5\u001b[00m\u001b[0m \n",
      "                \u001b[1m\u001b[42m^\u001b[00m\u001b[0m\n",
      "\n"
     ]
    },
    {
     "data": {
      "text/plain": [
       "8"
      ]
     },
     "execution_count": 7,
     "metadata": {},
     "output_type": "execute_result"
    }
   ],
   "source": [
    "test = [4,2,7,5,1,8,2,5,3,4,2,5]\n",
    "show_find(test,3)"
   ]
  },
  {
   "cell_type": "code",
   "execution_count": 8,
   "metadata": {},
   "outputs": [
    {
     "name": "stdout",
     "output_type": "stream",
     "text": [
      "\u001b[1m\u001b[33m2\u001b[00m\u001b[0m \n",
      "\u001b[1m\u001b[43m4\u001b[00m\u001b[0m \u001b[1m\u001b[34m2\u001b[00m\u001b[0m \u001b[1m\u001b[34m7\u001b[00m\u001b[0m \u001b[1m\u001b[34m5\u001b[00m\u001b[0m \u001b[1m\u001b[34m1\u001b[00m\u001b[0m \u001b[1m\u001b[34m8\u001b[00m\u001b[0m \u001b[1m\u001b[34m2\u001b[00m\u001b[0m \u001b[1m\u001b[34m5\u001b[00m\u001b[0m \u001b[1m\u001b[34m3\u001b[00m\u001b[0m \u001b[1m\u001b[34m4\u001b[00m\u001b[0m \u001b[1m\u001b[34m2\u001b[00m\u001b[0m \u001b[1m\u001b[34m5\u001b[00m\u001b[0m \n",
      "\u001b[1m\u001b[37m4\u001b[00m\u001b[0m \u001b[1m\u001b[43m2\u001b[00m\u001b[0m \u001b[1m\u001b[34m7\u001b[00m\u001b[0m \u001b[1m\u001b[34m5\u001b[00m\u001b[0m \u001b[1m\u001b[34m1\u001b[00m\u001b[0m \u001b[1m\u001b[34m8\u001b[00m\u001b[0m \u001b[1m\u001b[34m2\u001b[00m\u001b[0m \u001b[1m\u001b[34m5\u001b[00m\u001b[0m \u001b[1m\u001b[34m3\u001b[00m\u001b[0m \u001b[1m\u001b[34m4\u001b[00m\u001b[0m \u001b[1m\u001b[34m2\u001b[00m\u001b[0m \u001b[1m\u001b[34m5\u001b[00m\u001b[0m \n",
      "  \u001b[1m\u001b[42m^\u001b[00m\u001b[0m\n",
      "\n"
     ]
    },
    {
     "data": {
      "text/plain": [
       "1"
      ]
     },
     "execution_count": 8,
     "metadata": {},
     "output_type": "execute_result"
    }
   ],
   "source": [
    "test = [4,2,7,5,1,8,2,5,3,4,2,5]\n",
    "show_find(test,2)"
   ]
  },
  {
   "cell_type": "code",
   "execution_count": 9,
   "metadata": {},
   "outputs": [
    {
     "name": "stdout",
     "output_type": "stream",
     "text": [
      "\u001b[1m\u001b[33m6\u001b[00m\u001b[0m \n",
      "\u001b[1m\u001b[43m4\u001b[00m\u001b[0m \u001b[1m\u001b[34m2\u001b[00m\u001b[0m \u001b[1m\u001b[34m7\u001b[00m\u001b[0m \u001b[1m\u001b[34m5\u001b[00m\u001b[0m \u001b[1m\u001b[34m1\u001b[00m\u001b[0m \u001b[1m\u001b[34m8\u001b[00m\u001b[0m \u001b[1m\u001b[34m2\u001b[00m\u001b[0m \u001b[1m\u001b[34m5\u001b[00m\u001b[0m \u001b[1m\u001b[34m3\u001b[00m\u001b[0m \u001b[1m\u001b[34m4\u001b[00m\u001b[0m \u001b[1m\u001b[34m2\u001b[00m\u001b[0m \u001b[1m\u001b[34m5\u001b[00m\u001b[0m \n",
      "\u001b[1m\u001b[37m4\u001b[00m\u001b[0m \u001b[1m\u001b[43m2\u001b[00m\u001b[0m \u001b[1m\u001b[34m7\u001b[00m\u001b[0m \u001b[1m\u001b[34m5\u001b[00m\u001b[0m \u001b[1m\u001b[34m1\u001b[00m\u001b[0m \u001b[1m\u001b[34m8\u001b[00m\u001b[0m \u001b[1m\u001b[34m2\u001b[00m\u001b[0m \u001b[1m\u001b[34m5\u001b[00m\u001b[0m \u001b[1m\u001b[34m3\u001b[00m\u001b[0m \u001b[1m\u001b[34m4\u001b[00m\u001b[0m \u001b[1m\u001b[34m2\u001b[00m\u001b[0m \u001b[1m\u001b[34m5\u001b[00m\u001b[0m \n",
      "\u001b[1m\u001b[37m4\u001b[00m\u001b[0m \u001b[1m\u001b[37m2\u001b[00m\u001b[0m \u001b[1m\u001b[43m7\u001b[00m\u001b[0m \u001b[1m\u001b[34m5\u001b[00m\u001b[0m \u001b[1m\u001b[34m1\u001b[00m\u001b[0m \u001b[1m\u001b[34m8\u001b[00m\u001b[0m \u001b[1m\u001b[34m2\u001b[00m\u001b[0m \u001b[1m\u001b[34m5\u001b[00m\u001b[0m \u001b[1m\u001b[34m3\u001b[00m\u001b[0m \u001b[1m\u001b[34m4\u001b[00m\u001b[0m \u001b[1m\u001b[34m2\u001b[00m\u001b[0m \u001b[1m\u001b[34m5\u001b[00m\u001b[0m \n",
      "\u001b[1m\u001b[37m4\u001b[00m\u001b[0m \u001b[1m\u001b[37m2\u001b[00m\u001b[0m \u001b[1m\u001b[37m7\u001b[00m\u001b[0m \u001b[1m\u001b[43m5\u001b[00m\u001b[0m \u001b[1m\u001b[34m1\u001b[00m\u001b[0m \u001b[1m\u001b[34m8\u001b[00m\u001b[0m \u001b[1m\u001b[34m2\u001b[00m\u001b[0m \u001b[1m\u001b[34m5\u001b[00m\u001b[0m \u001b[1m\u001b[34m3\u001b[00m\u001b[0m \u001b[1m\u001b[34m4\u001b[00m\u001b[0m \u001b[1m\u001b[34m2\u001b[00m\u001b[0m \u001b[1m\u001b[34m5\u001b[00m\u001b[0m \n",
      "\u001b[1m\u001b[37m4\u001b[00m\u001b[0m \u001b[1m\u001b[37m2\u001b[00m\u001b[0m \u001b[1m\u001b[37m7\u001b[00m\u001b[0m \u001b[1m\u001b[37m5\u001b[00m\u001b[0m \u001b[1m\u001b[43m1\u001b[00m\u001b[0m \u001b[1m\u001b[34m8\u001b[00m\u001b[0m \u001b[1m\u001b[34m2\u001b[00m\u001b[0m \u001b[1m\u001b[34m5\u001b[00m\u001b[0m \u001b[1m\u001b[34m3\u001b[00m\u001b[0m \u001b[1m\u001b[34m4\u001b[00m\u001b[0m \u001b[1m\u001b[34m2\u001b[00m\u001b[0m \u001b[1m\u001b[34m5\u001b[00m\u001b[0m \n",
      "\u001b[1m\u001b[37m4\u001b[00m\u001b[0m \u001b[1m\u001b[37m2\u001b[00m\u001b[0m \u001b[1m\u001b[37m7\u001b[00m\u001b[0m \u001b[1m\u001b[37m5\u001b[00m\u001b[0m \u001b[1m\u001b[37m1\u001b[00m\u001b[0m \u001b[1m\u001b[43m8\u001b[00m\u001b[0m \u001b[1m\u001b[34m2\u001b[00m\u001b[0m \u001b[1m\u001b[34m5\u001b[00m\u001b[0m \u001b[1m\u001b[34m3\u001b[00m\u001b[0m \u001b[1m\u001b[34m4\u001b[00m\u001b[0m \u001b[1m\u001b[34m2\u001b[00m\u001b[0m \u001b[1m\u001b[34m5\u001b[00m\u001b[0m \n",
      "\u001b[1m\u001b[37m4\u001b[00m\u001b[0m \u001b[1m\u001b[37m2\u001b[00m\u001b[0m \u001b[1m\u001b[37m7\u001b[00m\u001b[0m \u001b[1m\u001b[37m5\u001b[00m\u001b[0m \u001b[1m\u001b[37m1\u001b[00m\u001b[0m \u001b[1m\u001b[37m8\u001b[00m\u001b[0m \u001b[1m\u001b[43m2\u001b[00m\u001b[0m \u001b[1m\u001b[34m5\u001b[00m\u001b[0m \u001b[1m\u001b[34m3\u001b[00m\u001b[0m \u001b[1m\u001b[34m4\u001b[00m\u001b[0m \u001b[1m\u001b[34m2\u001b[00m\u001b[0m \u001b[1m\u001b[34m5\u001b[00m\u001b[0m \n",
      "\u001b[1m\u001b[37m4\u001b[00m\u001b[0m \u001b[1m\u001b[37m2\u001b[00m\u001b[0m \u001b[1m\u001b[37m7\u001b[00m\u001b[0m \u001b[1m\u001b[37m5\u001b[00m\u001b[0m \u001b[1m\u001b[37m1\u001b[00m\u001b[0m \u001b[1m\u001b[37m8\u001b[00m\u001b[0m \u001b[1m\u001b[37m2\u001b[00m\u001b[0m \u001b[1m\u001b[43m5\u001b[00m\u001b[0m \u001b[1m\u001b[34m3\u001b[00m\u001b[0m \u001b[1m\u001b[34m4\u001b[00m\u001b[0m \u001b[1m\u001b[34m2\u001b[00m\u001b[0m \u001b[1m\u001b[34m5\u001b[00m\u001b[0m \n",
      "\u001b[1m\u001b[37m4\u001b[00m\u001b[0m \u001b[1m\u001b[37m2\u001b[00m\u001b[0m \u001b[1m\u001b[37m7\u001b[00m\u001b[0m \u001b[1m\u001b[37m5\u001b[00m\u001b[0m \u001b[1m\u001b[37m1\u001b[00m\u001b[0m \u001b[1m\u001b[37m8\u001b[00m\u001b[0m \u001b[1m\u001b[37m2\u001b[00m\u001b[0m \u001b[1m\u001b[37m5\u001b[00m\u001b[0m \u001b[1m\u001b[43m3\u001b[00m\u001b[0m \u001b[1m\u001b[34m4\u001b[00m\u001b[0m \u001b[1m\u001b[34m2\u001b[00m\u001b[0m \u001b[1m\u001b[34m5\u001b[00m\u001b[0m \n",
      "\u001b[1m\u001b[37m4\u001b[00m\u001b[0m \u001b[1m\u001b[37m2\u001b[00m\u001b[0m \u001b[1m\u001b[37m7\u001b[00m\u001b[0m \u001b[1m\u001b[37m5\u001b[00m\u001b[0m \u001b[1m\u001b[37m1\u001b[00m\u001b[0m \u001b[1m\u001b[37m8\u001b[00m\u001b[0m \u001b[1m\u001b[37m2\u001b[00m\u001b[0m \u001b[1m\u001b[37m5\u001b[00m\u001b[0m \u001b[1m\u001b[37m3\u001b[00m\u001b[0m \u001b[1m\u001b[43m4\u001b[00m\u001b[0m \u001b[1m\u001b[34m2\u001b[00m\u001b[0m \u001b[1m\u001b[34m5\u001b[00m\u001b[0m \n",
      "\u001b[1m\u001b[37m4\u001b[00m\u001b[0m \u001b[1m\u001b[37m2\u001b[00m\u001b[0m \u001b[1m\u001b[37m7\u001b[00m\u001b[0m \u001b[1m\u001b[37m5\u001b[00m\u001b[0m \u001b[1m\u001b[37m1\u001b[00m\u001b[0m \u001b[1m\u001b[37m8\u001b[00m\u001b[0m \u001b[1m\u001b[37m2\u001b[00m\u001b[0m \u001b[1m\u001b[37m5\u001b[00m\u001b[0m \u001b[1m\u001b[37m3\u001b[00m\u001b[0m \u001b[1m\u001b[37m4\u001b[00m\u001b[0m \u001b[1m\u001b[43m2\u001b[00m\u001b[0m \u001b[1m\u001b[34m5\u001b[00m\u001b[0m \n",
      "\u001b[1m\u001b[37m4\u001b[00m\u001b[0m \u001b[1m\u001b[37m2\u001b[00m\u001b[0m \u001b[1m\u001b[37m7\u001b[00m\u001b[0m \u001b[1m\u001b[37m5\u001b[00m\u001b[0m \u001b[1m\u001b[37m1\u001b[00m\u001b[0m \u001b[1m\u001b[37m8\u001b[00m\u001b[0m \u001b[1m\u001b[37m2\u001b[00m\u001b[0m \u001b[1m\u001b[37m5\u001b[00m\u001b[0m \u001b[1m\u001b[37m3\u001b[00m\u001b[0m \u001b[1m\u001b[37m4\u001b[00m\u001b[0m \u001b[1m\u001b[37m2\u001b[00m\u001b[0m \u001b[1m\u001b[43m5\u001b[00m\u001b[0m \n",
      "\u001b[1m\u001b[37m4\u001b[00m\u001b[0m \u001b[1m\u001b[37m2\u001b[00m\u001b[0m \u001b[1m\u001b[37m7\u001b[00m\u001b[0m \u001b[1m\u001b[37m5\u001b[00m\u001b[0m \u001b[1m\u001b[37m1\u001b[00m\u001b[0m \u001b[1m\u001b[37m8\u001b[00m\u001b[0m \u001b[1m\u001b[37m2\u001b[00m\u001b[0m \u001b[1m\u001b[37m5\u001b[00m\u001b[0m \u001b[1m\u001b[37m3\u001b[00m\u001b[0m \u001b[1m\u001b[37m4\u001b[00m\u001b[0m \u001b[1m\u001b[37m2\u001b[00m\u001b[0m \u001b[1m\u001b[37m5\u001b[00m\u001b[0m \n",
      "                        \u001b[1m\u001b[41mX\u001b[00m\u001b[0m\n",
      "\n"
     ]
    },
    {
     "data": {
      "text/plain": [
       "12"
      ]
     },
     "execution_count": 9,
     "metadata": {},
     "output_type": "execute_result"
    }
   ],
   "source": [
    "test = [4,2,7,5,1,8,2,5,3,4,2,5]\n",
    "show_find(test,6)"
   ]
  },
  {
   "cell_type": "markdown",
   "metadata": {},
   "source": [
    "Wat is de snelheid van lineair zoeken? Het is duidelijk dat we in het\n",
    "beste geval het gezochte element meteen hebben gevonden, nml. in het geval het \n",
    "gezochte element helemaal vooraan in de lijst staat. De best-case is\n",
    "dus in $O(1)$. In het slechtste geval dienen we de hele lijst af te\n",
    "lopen en vinden we het elementje zelfs niet eens terug. De worst-case is\n",
    "dus in $O(n)$. Om te weten dat een element niet in een lijst zit zijn dus altijd $n$ vergelijkingen nodig. \n",
    "Om een element terug te vinden is een aantal stappen nodig ergens tussen 1 en n. Hoeveel juist hangt af van andere factoren zoals de verdeling van de waarden die in de lijst zitten."
   ]
  },
  {
   "cell_type": "markdown",
   "metadata": {},
   "source": [
    "### Binair Zoeken\n",
    "\n",
    "Een radicaal andere manier om hetzelfde probleem op te lossen wordt\n",
    "*binary search* genoemd. \n",
    "\n",
    "Binary search gaat ervan uit dat de elementen van de lijst gesorteerd\n",
    "zijn. Dit is een zeer belangrijke voorwaarde. Binary search werkt niet\n",
    "voor lijsten wiens elementen niet gesorteerd zijn.\n",
    "\n",
    "Binary search doet denken aan de manier waarop we een naam opzoeken in\n",
    "een telefoonboek. Men neemt het telefoonboek in de hand en opent het\n",
    "ongeveer in het midden. Afhankelijk van de pagina die we zien (bvb. met\n",
    "namen die beginnen met een K), beslissen we of de gezochte naam in het\n",
    "linker dan wel het rechterdeel van het boek moet zitten. Dit is mogelijk\n",
    "aangezien de gegevens gesorteerd zijn. Eens de keuze gemaakt, wordt dus\n",
    "de helft van de te doorzoeken data geëlimineerd! De gekozen helft wordt\n",
    "opnieuw in tweeën gedeeld en dit gaat door tot we op de juiste bladzijde\n",
    "terecht komen.\n",
    "\n",
    "De implementatie van dit principe ziet er als volgt uit:"
   ]
  },
  {
   "cell_type": "code",
   "execution_count": 10,
   "metadata": {},
   "outputs": [],
   "source": [
    "def bin_search(lst, elm):\n",
    "    left  = 0\n",
    "    right = len(lst) - 1\n",
    "    while left <= right:\n",
    "        mid = (left + right) // 2 #gehele deling om 'middelste' index te berekenen\n",
    "        if lst[mid] == elm:\n",
    "            return mid\n",
    "        if lst[mid] < elm:\n",
    "            left=mid+1\n",
    "        else:\n",
    "            right=mid-1\n",
    "    return len(lst)"
   ]
  },
  {
   "cell_type": "code",
   "execution_count": 11,
   "metadata": {},
   "outputs": [],
   "source": [
    "test = [\"ann\",\"els\",\"jan\", \"jef\", \"mia\"]"
   ]
  },
  {
   "cell_type": "code",
   "execution_count": 12,
   "metadata": {},
   "outputs": [
    {
     "data": {
      "text/plain": [
       "1"
      ]
     },
     "execution_count": 12,
     "metadata": {},
     "output_type": "execute_result"
    }
   ],
   "source": [
    "bin_search(test, \"els\")"
   ]
  },
  {
   "cell_type": "code",
   "execution_count": 13,
   "metadata": {},
   "outputs": [
    {
     "data": {
      "text/plain": [
       "5"
      ]
     },
     "execution_count": 13,
     "metadata": {},
     "output_type": "execute_result"
    }
   ],
   "source": [
    "bin_search(test, \"theo\")"
   ]
  },
  {
   "cell_type": "markdown",
   "metadata": {},
   "source": [
    "De functie bin_search neemt een lijst `lst` en het op te zoeken elementje `elm`. Ze geeft de index weer van het element in de lijst of de lengte van de lijst ingeval het element niet in de lijst voorkomt. De twee variabelen left en right evolueren steeds dichter naar elkaar toe. In iedere slag van de iteratie berekenen we de middelste index mid. Indien het gezochte element toevallig gevonden wordt op die index, zijn we klaar en geven we de index mid weer als eindresultaat. Anders vergelijken we het op te zoeken element met het element dat op die index zit en zoeken we op basis van de uitkomst van die vergelijking verder in de linker- of rechterhelft van de huidige opdeling. De herhaling blijft doorgaan zolang de linkerhelft kleiner of gelijk is aan de rechterhelft.\n",
    "\n",
    "### Performantie\n",
    "\n",
    "Wat kunnen we zeggen over de uitvoeringssnelheid? Als we geluk hebben, vinden we het gezochte element meteen de allereerste keer. De\n",
    "best-case is dus opnieuw in $O(1)$. \n",
    "Om de worst-case te bepalen, observeren we het algoritme met de twee variabelen `left` en `right` die respectievelijk de waardes `0` en `len(lst)-1` krijgen en stoppen indien er geen verschil meer is tussen deze variabelen. In elke slag wordt ofwel `left` ofwel `right` \"vervangen\" door `mid+1` of\n",
    "`mid-1` zodat het verschil tussen `left` en `right` halveert in iedere slag. De vraag is dus hoeveel keer (laat ons zeggen, $k$) we $n=$\n",
    "`len(lst)` kunnen halveren alvorens we $1$ uitkomen. Dus, voor welke $k$ is $\\frac{n}{2^k}=1$? Dat is per definitie $k=log_2(n)$.\n",
    "\n",
    "We kunnen dus stellen dat binair zoeken in $O(log_2(n))$ is. Merk op dat dit een dramatische(!) verbetering is t.o.v. lineair zoeken. Zelfs om een lijst\n",
    "van miljoenen elementen te doorzoeken heeft binair zoeken slechts enkele tientallen stappen nodig.\n",
    "\n",
    "Enkele opmerkingen:\n",
    "\n",
    "-   Eigenlijk is de basis van de logaritme niet relevant in een $O$\n",
    "    notatie. Vermits $log_2(x) = \\frac{log(x)}{log(2)}$ en vermits\n",
    "    $\\frac{1}{log(2)}$ een constante is (dewelke geen rol spelen bij\n",
    "    $O$), kunnen we stellen dat $O(log_2(n)) = O(log(n))$.\n",
    "\n",
    "-   Alhoewel we het reeds vermeld hebben, is het nuttig te herhalen dat\n",
    "    binair zoeken enkel toepasbaar is op gesorteerde data.\n",
    "    "
   ]
  },
  {
   "cell_type": "markdown",
   "metadata": {},
   "source": [
    "### Even verifiëren\n",
    "\n",
    "De theoretische studie m.b.v. $O$ kan heel makkelijk experimenteel geverifieerd worden. We gaan meten hoe lang het duurt om in lijsten van oplopende lengtes te zoeken.\n",
    "We gebruiken in de experimenten lijsten met random getallen. We doen hiervoor beroep op de functie `randint` in de module `random`. Deze geeft een willekeurig geheel getal weer dat tussen beide parameters ligt. `randint(1,100)` geeft bijvoorbeeld een willekeurig getal tussen $1$ en $100$. Een lijst genereren van een gevraagde lengte met getallen die random gekozen zijn tussen grenzen 1 en `n//2` kan makkelijk met een *list comprehension* zoals hieronder in de functie `generate_lst` gebeurt. De reden waarom we getallen genereren binnen grenzen die afhangen van de lengte van de lijst is om de kans dat eenzelfde getal meer dan 1 keer voorkomt in alle lengtes van lijsten even groot te maken."
   ]
  },
  {
   "cell_type": "code",
   "execution_count": 14,
   "metadata": {},
   "outputs": [],
   "source": [
    "import random\n",
    "\n",
    "def generate_lst(n):\n",
    "    return [random.randint(1,n//2) for i in range(0,n)]"
   ]
  },
  {
   "cell_type": "markdown",
   "metadata": {},
   "source": [
    "Het timen van de uitvoertijd van een functieoproep gebeurt met de `time` module. "
   ]
  },
  {
   "cell_type": "code",
   "execution_count": 15,
   "metadata": {},
   "outputs": [],
   "source": [
    "import time\n",
    "\n",
    "def time_find(lst,e):\n",
    "    t1 = time.time()\n",
    "    find(lst,e)\n",
    "    t2 = time.time() \n",
    "    return (t2-t1)*1000\n",
    "\n",
    "def time_bin_search(lst,e):\n",
    "    t1 = time.time()\n",
    "    bin_search(lst,e)\n",
    "    t2 = time.time() \n",
    "    return (t2-t1)*1000"
   ]
  },
  {
   "cell_type": "markdown",
   "metadata": {},
   "source": [
    "We maken een onderscheid tussen zoeken naar elementen die wel in de lijst voorkomen en  zoeken naar elementen die niet in de lijst voorkomen. Het laatste is makkelijk, we zoeken bv. naar `-1` terwijl we lijsten van positieve getallen gebruiken in onze tests. Voor het andere geval willen we een soort gemiddelde van zoeken naar elementen die eerder vooraan staan in de lijst en element die eerder achteraan staan in de lijst. We kunnen opnieuw de `randint` functie gebruiken om een random positie in de lijst die we onderzoeken te genereren.  Als we dan gaan zoeken naar het element dat in de lijst op die positie staat zijn we dus zeker dat we zoeken naar een element dat voorkomt in de lijst. We gaan het tijdmeten telkens 50 keer herhalen en een gemiddelde gebruiken. We schrijven 4 functies om voor beide algoritmen 2 keer te  timen, 1 keer voor het zoeken naar een element dat er zeker niet inzit, 1 keer voor het zoeken naar een element dat zeker wel in zit. "
   ]
  },
  {
   "cell_type": "code",
   "execution_count": 16,
   "metadata": {},
   "outputs": [],
   "source": [
    "def time_find_nok(lst):\n",
    "    return sum([time_find(lst,-1) for i in range(0,50)])/50\n",
    "    \n",
    "def time_find_ok(lst):\n",
    "    return sum([time_find(lst,lst[random.randint(1,len(lst)-1)]) for i in range(0,50)])/50\n",
    "    \n",
    "def time_bin_search_nok(lst):\n",
    "    return sum([time_bin_search(lst,-1) for i in range(0,50)])/50\n",
    "    \n",
    "def time_bin_search_ok(lst):\n",
    "    return sum([time_bin_search(lst,lst[random.randint(1,len(lst)-1)]) for i in range(0,50)])/50   "
   ]
  },
  {
   "cell_type": "markdown",
   "metadata": {},
   "source": [
    "We gaan teslotte met behulp van `matplotlib` 4 grafieken tekenen voor tijdsmetingen voor lijsten die variëren in lengte van $m$ tot $10$ keer $m$ met stappen van $m$. Dat kan door voor elke `n` in de `range (m,m*10+1,m)` een testlijst te genereren en daarvoor de tijdsmetingen uit te voeren met de 4 functies die we net schreven. De oproep `plot_all_search_algo(1000)` toont dus de tijdmetingen voor lijsten van lengte 1000 tot 10.000 met stappen van 1000."
   ]
  },
  {
   "cell_type": "code",
   "execution_count": 17,
   "metadata": {},
   "outputs": [],
   "source": [
    "import matplotlib.pyplot as plt"
   ]
  },
  {
   "cell_type": "code",
   "execution_count": 18,
   "metadata": {},
   "outputs": [],
   "source": [
    "def plot_all_search_algo(m):\n",
    "    x_values = list(range(m,10*m+1,m))\n",
    "    y_values = [time_find_nok(generate_lst(m)) for m in range(m,10*m+1,m)]\n",
    "    plt.plot(x_values,y_values, 'g^', label = \"Find (False)\")\n",
    "    y_values = [time_find_ok(generate_lst(m)) for m in range(m,10*m+1,m)]\n",
    "    plt.plot(x_values,y_values, 'ro', label = \"Find (True)\")\n",
    "    y_values = [time_bin_search_nok(generate_lst(m)) for m in range(m,10*m+1,m)]\n",
    "    plt.plot(x_values,y_values, 'bs', label = \"Bin_search(False)\")\n",
    "    y_values = [time_bin_search_ok(generate_lst(m)) for m in range(m,10*m+1,m)]\n",
    "    plt.plot(x_values,y_values, 'yd', label = \"Bin_Search(True)\")\n",
    "    plt.ylabel('execution times for search algorithms')\n",
    "    plt.legend()\n",
    "    plt.show()        \n",
    "    return \"plot finished\""
   ]
  },
  {
   "cell_type": "code",
   "execution_count": 19,
   "metadata": {},
   "outputs": [
    {
     "data": {
      "image/png": "[encoded data removed]",
      "text/plain": [
       "<Figure size 640x480 with 1 Axes>"
      ]
     },
     "metadata": {},
     "output_type": "display_data"
    },
    {
     "data": {
      "text/plain": [
       "'plot finished'"
      ]
     },
     "execution_count": 19,
     "metadata": {},
     "output_type": "execute_result"
    }
   ],
   "source": [
    "plot_all_search_algo(1000)"
   ]
  },
  {
   "cell_type": "markdown",
   "metadata": {},
   "source": [
    "De grafieken bevestigen de theoretische voorspellingen over het tijdsgebruik van de zoekalgoritmen. `find` is $O(n)$, beide grafieken zijn ongeveer rechten. Voor elementen die niet in de lijst zitten is de rechte stijler dan voor elementen die wel worden teruggevonden. Voor `bin-search`, theoretisch $O(log(n))$, zie je inderdaad dat de tijd nodig om een element te zoeken maar heel traag stijgt met de lengte van de lijsten. Je kan de codecel een paar keer uitproberen om pieken die het gevolg zijn van de andere dingen die je computer aan het doen is te vermijden of om met nog langere lijsten te testen. Let wel op, als je `m` heel groot kiest kan het wel een tijdje duren om alle tijdmetingen te doen."
   ]
  },
  {
   "cell_type": "markdown",
   "metadata": {},
   "source": [
    "## Sorteren van Lijsten\n",
    "--------------------\n",
    "\n",
    "Zoals reeds gezegd in de inleiding is sorteren een veelgebruikte\n",
    "functionaliteit voor computers. Maar hoe kan een computer een lijst van\n",
    "$n$ elementen in de juiste volgorde zetten? En hoe lang zal dat dan\n",
    "duren? In wat volgt onderzoeken we enkele sorteeralgoritmen en\n",
    "bestuderen we hun snelheid.\n",
    "\n",
    "Lineair zoeken is de enige oplossing wanneer je werkt met niet gesorteerde gegevens, wil je sneller zoeken in de gegevens dan moet je beschikken over gesorteerde gegevens. Het sorteren op zich gaat steeds gepaard met een complexiteit die in de meest ideale gevallen neerkomt op $O\\left(n\\cdot \\text{log}(n) \\right)$. Het is dus niet altijd verstandig om de gegevens te sorteren wanneer je slechts een beperkt aantal keer moet zoeken in de gegevens.  \n",
    "\n",
    "### Bubbel-sorteren\n",
    "Een eenvoudig sorteeralgoritme is het bubbelsorteeralgoritme, het dankt zijn naam aan het effect dat de grootste waarden in de gegevenslijst naar boven borrelen zoals de bubbels in een glas frisdrank. Mede dankzij zijn eenvoud is het algoritme echter niet efficiënt en is de tijdscomplexiteit opgegeven als $O(n^2)$.\n",
    "Het bubbelsorteeralgoritme itereert door de gegevens en vergelijkt $L[n]$ en $L[n+1]$ is de waarde met index $n$ groter dan die met index $n+1$ worden beiden van plaats verwisseld. Vervolgens wordt de iterator n opgehoogt. en herhaalt de cyclus. Na de eerste volledige iteratie staat de allergrootste waarde uit de lijst achteraan in de lijst. Dat deel van de lijst is dan geordend, en wordt tijdens de daarop volgende iteratie niet meer doorlopen.  Onderstaande animatie verduidelijkt de werkwijze.\n",
    "<p style=\"text-align:center;\"><img src=\"Sorting_bubblesort_anim.gif\"></p>\n",
    "\n"
   ]
  },
  {
   "cell_type": "code",
   "execution_count": 20,
   "metadata": {},
   "outputs": [],
   "source": [
    "def bubbel_sort(lst):\n",
    "    iteraties = 0\n",
    "    print(\"Start\", iteraties, \"iteraties: \\t\", lst )\n",
    "\n",
    "    # Laat j waarden aannemen van 1 tot de lengte van de lijst \n",
    "    for j in range(1, len(lst)):\n",
    "        for i in range(len(lst)-j):\n",
    "            if lst[i] > lst[i+1]:\n",
    "                lst[i], lst[i+1] = lst[i+1], lst[i]\n",
    "\n",
    "            iteraties += 1\n",
    "            print(\"Na\", iteraties, \"iteraties: \\t\", lst )\n",
    "    return lst"
   ]
  },
  {
   "cell_type": "markdown",
   "metadata": {},
   "source": [
    "Het bubbel sorteeralgoritme wordt hierboven geïllustreerd met een korte ongesorteerde lijst. <br> Het moet gezegd, dat ondanks de eerder nadelige tijdcomplexiteit van het algoritme, de geheugenimpact van het algoritme met $O(1)$ het beste in zijn soort is. Dit kan je makkelijk inzien omdat er geen nieuwe lijsten worden aangemaakt en alle bewerkingen in de bestaande lijst worden uitgevoerd."
   ]
  },
  {
   "cell_type": "markdown",
   "metadata": {},
   "source": [
    "### Insertion Sort\n",
    "\n",
    "*insertion sort* is een eenvoudig algoritme dat\n",
    "gelijkt op de manier waarop kaartstpelers hun kaarten in de juiste\n",
    "volgorde steken. Bij het delen van de kaarten zal degene die deelt de\n",
    "kaarten willekeurig op tafel leggen (met de rugzijde naar boven\n",
    "uiteraard, maar dat is hier niet relevant). Iedere kaarspeler zal dan\n",
    "beginnen met een lege hand en de gedeelde kaarten er met de andere hand\n",
    "één per één tussensteken in de juiste volgorde. Op ieder moment neemt de\n",
    "speler dus een volgende kaart --- uit de ongesorteerde hoop --- en steekt hij die\n",
    "(Eng: to insert) op de juiste plaats in de reeds-gesorteerde hand.\n",
    "\n",
    "<p style=\"text-align:center;\"><img src=\"insertionsort.png\"></p>\n",
    "Bovenstaande figuur illustreert de werking van het insertion sort algoritme. De werking is net zoals bij bubble sort gebaseerd op twee geneste lussen maar waar het bubblesort van het begin tot het einde itereert met de grootste overblijvende waarden itereert insertionsort tot er een waarde gevonden wordt die kleiner is dan voorgaande. Dan start een tweede iteratie van de huidige positie in de lijst tot die waarde op zijn correcte locatie staat. \n",
    "<br>\n",
    "<p style=\"text-align:center;\"><img src=\"insertion_sort.gif\"></p>\n",
    "Indien we dit principe nu toepassen op ongesorteerde lijsten in Python,\n",
    "krijgen we het volgende algoritme:"
   ]
  },
  {
   "cell_type": "code",
   "execution_count": 21,
   "metadata": {},
   "outputs": [],
   "source": [
    "def insertion_sort(lst):\n",
    "    for idx in range(0, len(lst)):\n",
    "        insert(lst,idx)\n",
    "        \n",
    "def insert(lst,idx):\n",
    "    elm = lst[idx]\n",
    "    while idx > 0 and lst[idx-1] > elm:\n",
    "        lst[idx] = lst[idx-1]\n",
    "        idx      = idx-1\n",
    "    lst[idx] = elm"
   ]
  },
  {
   "cell_type": "code",
   "execution_count": 22,
   "metadata": {},
   "outputs": [],
   "source": [
    "test = [\"jan\", \"ann\",\"els\",\"jef\", \"mia\"]"
   ]
  },
  {
   "cell_type": "code",
   "execution_count": 23,
   "metadata": {},
   "outputs": [],
   "source": [
    "insertion_sort(test)"
   ]
  },
  {
   "cell_type": "code",
   "execution_count": 24,
   "metadata": {},
   "outputs": [
    {
     "data": {
      "text/plain": [
       "['ann', 'els', 'jan', 'jef', 'mia']"
      ]
     },
     "execution_count": 24,
     "metadata": {},
     "output_type": "execute_result"
    }
   ],
   "source": [
    "test"
   ]
  },
  {
   "cell_type": "markdown",
   "metadata": {},
   "source": [
    "`insertion_sort` wandelt met een `for` ieder element in de lijst af, van links naar rechts. Ze roept voor iedere index `idx` de hulpfunctie `insert` op. Deze zal het idx’ste element van de lijst juist steken in de reeds gesorteerde elementen. Op ieder moment zal onze lijst bestaan uit twee (ongelijke) delen. Het linkerdeel is het reeds gesorteerde deel en het rechterdeel is het nog te sorteren deel. Telkens nemen we dus (met idx) het eerste elementje van het rechterdeel (wat steeds kleiner wordt) en steken we dat op de juiste plaats in het linkerdeel (wat steeds groter wordt). `insert` doet dat door in het linkerdeel van index `idx` te lopen naar 0 toe. Zolang we elementen zien die groter zijn dan het juist te steken element `elm`, schuiven we die 1 plaats naar rechts op. Anders steken we ons elementje op de zopas vrij gekomen plaats en zijn we klaar.\n",
    "<br><br>\n",
    "Om te volgen wat gebeurt tracen we hier eerst de werking van `insert` op een voorbeeldlijst waarvan de eerste 6 elementen al gesorteerd staan. De elementen die al ‘goed’ staan zijn groen gekleurd. We illustreren hoe het element op positie 6\n",
    " (in het voorbeeld het getal 3) naar de juiste positie verhuist door eerst alle elementen die groter zijn naar rechts op te schuiven. De gele kleur in de trace verduidelijkt welke elementen daarvoor bekeken en eventueel opgeschoven worden. De grijs weergegeven elementen spelen niet mee in deze`insert` stap."
   ]
  },
  {
   "cell_type": "code",
   "execution_count": 25,
   "metadata": {},
   "outputs": [],
   "source": [
    "from Tracing import *"
   ]
  },
  {
   "cell_type": "code",
   "execution_count": 26,
   "metadata": {},
   "outputs": [
    {
     "name": "stdout",
     "output_type": "stream",
     "text": [
      "\u001b[1m\u001b[32m1\u001b[00m\u001b[0m \u001b[1m\u001b[32m2\u001b[00m\u001b[0m \u001b[1m\u001b[32m4\u001b[00m\u001b[0m \u001b[1m\u001b[32m6\u001b[00m\u001b[0m \u001b[1m\u001b[32m7\u001b[00m\u001b[0m \u001b[1m\u001b[32m8\u001b[00m\u001b[0m \u001b[1m\u001b[43m3\u001b[00m\u001b[0m \u001b[1m\u001b[37m9\u001b[00m\u001b[0m \u001b[1m\u001b[37m2\u001b[00m\u001b[0m \u001b[1m\u001b[37m8\u001b[00m\u001b[0m \u001b[1m\u001b[37m6\u001b[00m\u001b[0m \u001b[1m\u001b[37m3\u001b[00m\u001b[0m \n",
      "\u001b[1m\u001b[32m1\u001b[00m\u001b[0m \u001b[1m\u001b[32m2\u001b[00m\u001b[0m \u001b[1m\u001b[32m4\u001b[00m\u001b[0m \u001b[1m\u001b[32m6\u001b[00m\u001b[0m \u001b[1m\u001b[32m7\u001b[00m\u001b[0m \u001b[1m\u001b[43m8\u001b[00m\u001b[0m \u001b[1m\u001b[37m \u001b[00m\u001b[0m \u001b[1m\u001b[37m9\u001b[00m\u001b[0m \u001b[1m\u001b[37m2\u001b[00m\u001b[0m \u001b[1m\u001b[37m8\u001b[00m\u001b[0m \u001b[1m\u001b[37m6\u001b[00m\u001b[0m \u001b[1m\u001b[37m3\u001b[00m\u001b[0m \n",
      "\u001b[1m\u001b[32m1\u001b[00m\u001b[0m \u001b[1m\u001b[32m2\u001b[00m\u001b[0m \u001b[1m\u001b[32m4\u001b[00m\u001b[0m \u001b[1m\u001b[32m6\u001b[00m\u001b[0m \u001b[1m\u001b[43m7\u001b[00m\u001b[0m \u001b[1m\u001b[37m \u001b[00m\u001b[0m \u001b[1m\u001b[33m8\u001b[00m\u001b[0m \u001b[1m\u001b[37m9\u001b[00m\u001b[0m \u001b[1m\u001b[37m2\u001b[00m\u001b[0m \u001b[1m\u001b[37m8\u001b[00m\u001b[0m \u001b[1m\u001b[37m6\u001b[00m\u001b[0m \u001b[1m\u001b[37m3\u001b[00m\u001b[0m \n",
      "\u001b[1m\u001b[32m1\u001b[00m\u001b[0m \u001b[1m\u001b[32m2\u001b[00m\u001b[0m \u001b[1m\u001b[32m4\u001b[00m\u001b[0m \u001b[1m\u001b[43m6\u001b[00m\u001b[0m \u001b[1m\u001b[37m \u001b[00m\u001b[0m \u001b[1m\u001b[33m7\u001b[00m\u001b[0m \u001b[1m\u001b[33m8\u001b[00m\u001b[0m \u001b[1m\u001b[37m9\u001b[00m\u001b[0m \u001b[1m\u001b[37m2\u001b[00m\u001b[0m \u001b[1m\u001b[37m8\u001b[00m\u001b[0m \u001b[1m\u001b[37m6\u001b[00m\u001b[0m \u001b[1m\u001b[37m3\u001b[00m\u001b[0m \n",
      "\u001b[1m\u001b[32m1\u001b[00m\u001b[0m \u001b[1m\u001b[32m2\u001b[00m\u001b[0m \u001b[1m\u001b[43m4\u001b[00m\u001b[0m \u001b[1m\u001b[37m \u001b[00m\u001b[0m \u001b[1m\u001b[33m6\u001b[00m\u001b[0m \u001b[1m\u001b[33m7\u001b[00m\u001b[0m \u001b[1m\u001b[33m8\u001b[00m\u001b[0m \u001b[1m\u001b[37m9\u001b[00m\u001b[0m \u001b[1m\u001b[37m2\u001b[00m\u001b[0m \u001b[1m\u001b[37m8\u001b[00m\u001b[0m \u001b[1m\u001b[37m6\u001b[00m\u001b[0m \u001b[1m\u001b[37m3\u001b[00m\u001b[0m \n",
      "\u001b[1m\u001b[32m1\u001b[00m\u001b[0m \u001b[1m\u001b[43m2\u001b[00m\u001b[0m \u001b[1m\u001b[37m \u001b[00m\u001b[0m \u001b[1m\u001b[33m4\u001b[00m\u001b[0m \u001b[1m\u001b[33m6\u001b[00m\u001b[0m \u001b[1m\u001b[33m7\u001b[00m\u001b[0m \u001b[1m\u001b[33m8\u001b[00m\u001b[0m \u001b[1m\u001b[37m9\u001b[00m\u001b[0m \u001b[1m\u001b[37m2\u001b[00m\u001b[0m \u001b[1m\u001b[37m8\u001b[00m\u001b[0m \u001b[1m\u001b[37m6\u001b[00m\u001b[0m \u001b[1m\u001b[37m3\u001b[00m\u001b[0m \n",
      "\u001b[1m\u001b[32m1\u001b[00m\u001b[0m \u001b[1m\u001b[33m2\u001b[00m\u001b[0m \u001b[1m\u001b[33m3\u001b[00m\u001b[0m \u001b[1m\u001b[33m4\u001b[00m\u001b[0m \u001b[1m\u001b[33m6\u001b[00m\u001b[0m \u001b[1m\u001b[33m7\u001b[00m\u001b[0m \u001b[1m\u001b[33m8\u001b[00m\u001b[0m \u001b[1m\u001b[37m9\u001b[00m\u001b[0m \u001b[1m\u001b[37m2\u001b[00m\u001b[0m \u001b[1m\u001b[37m8\u001b[00m\u001b[0m \u001b[1m\u001b[37m6\u001b[00m\u001b[0m \u001b[1m\u001b[37m3\u001b[00m\u001b[0m \n"
     ]
    }
   ],
   "source": [
    "test = [1,2,4,6,7,8,3,9,2,8,6,3]\n",
    "show_insert(test,6)"
   ]
  },
  {
   "cell_type": "markdown",
   "metadata": {},
   "source": [
    "In de trace van `insertion_sort` zelf zie je dan dat startend van links telkens een extra element wordt 'goed' gezet. Je kan door de gele kleur ook vaststellen dat het aantal elementen dat daarvoor 'bekeken' wordt variabel is in elke iteratie slag maar kleiner dan of gelijk is aan het aantal elementen dat al gesorteerd staat in die iteratie slag."
   ]
  },
  {
   "cell_type": "code",
   "execution_count": 27,
   "metadata": {},
   "outputs": [
    {
     "name": "stdout",
     "output_type": "stream",
     "text": [
      "\u001b[1m\u001b[34m6\u001b[00m\u001b[0m \u001b[1m\u001b[34m2\u001b[00m\u001b[0m \u001b[1m\u001b[34m4\u001b[00m\u001b[0m \u001b[1m\u001b[34m1\u001b[00m\u001b[0m \u001b[1m\u001b[34m7\u001b[00m\u001b[0m \u001b[1m\u001b[34m8\u001b[00m\u001b[0m \u001b[1m\u001b[34m3\u001b[00m\u001b[0m \u001b[1m\u001b[34m9\u001b[00m\u001b[0m \u001b[1m\u001b[34m2\u001b[00m\u001b[0m \u001b[1m\u001b[34m7\u001b[00m\u001b[0m \u001b[1m\u001b[34m6\u001b[00m\u001b[0m \u001b[1m\u001b[34m3\u001b[00m\u001b[0m \n",
      "\u001b[1m\u001b[43m6\u001b[00m\u001b[0m \u001b[1m\u001b[37m2\u001b[00m\u001b[0m \u001b[1m\u001b[37m4\u001b[00m\u001b[0m \u001b[1m\u001b[37m1\u001b[00m\u001b[0m \u001b[1m\u001b[37m7\u001b[00m\u001b[0m \u001b[1m\u001b[37m8\u001b[00m\u001b[0m \u001b[1m\u001b[37m3\u001b[00m\u001b[0m \u001b[1m\u001b[37m9\u001b[00m\u001b[0m \u001b[1m\u001b[37m2\u001b[00m\u001b[0m \u001b[1m\u001b[37m7\u001b[00m\u001b[0m \u001b[1m\u001b[37m6\u001b[00m\u001b[0m \u001b[1m\u001b[37m3\u001b[00m\u001b[0m \n",
      "\u001b[1m\u001b[33m6\u001b[00m\u001b[0m \u001b[1m\u001b[43m2\u001b[00m\u001b[0m \u001b[1m\u001b[37m4\u001b[00m\u001b[0m \u001b[1m\u001b[37m1\u001b[00m\u001b[0m \u001b[1m\u001b[37m7\u001b[00m\u001b[0m \u001b[1m\u001b[37m8\u001b[00m\u001b[0m \u001b[1m\u001b[37m3\u001b[00m\u001b[0m \u001b[1m\u001b[37m9\u001b[00m\u001b[0m \u001b[1m\u001b[37m2\u001b[00m\u001b[0m \u001b[1m\u001b[37m7\u001b[00m\u001b[0m \u001b[1m\u001b[37m6\u001b[00m\u001b[0m \u001b[1m\u001b[37m3\u001b[00m\u001b[0m \n",
      "\u001b[1m\u001b[33m2\u001b[00m\u001b[0m \u001b[1m\u001b[33m6\u001b[00m\u001b[0m \u001b[1m\u001b[43m4\u001b[00m\u001b[0m \u001b[1m\u001b[37m1\u001b[00m\u001b[0m \u001b[1m\u001b[37m7\u001b[00m\u001b[0m \u001b[1m\u001b[37m8\u001b[00m\u001b[0m \u001b[1m\u001b[37m3\u001b[00m\u001b[0m \u001b[1m\u001b[37m9\u001b[00m\u001b[0m \u001b[1m\u001b[37m2\u001b[00m\u001b[0m \u001b[1m\u001b[37m7\u001b[00m\u001b[0m \u001b[1m\u001b[37m6\u001b[00m\u001b[0m \u001b[1m\u001b[37m3\u001b[00m\u001b[0m \n",
      "\u001b[1m\u001b[32m2\u001b[00m\u001b[0m \u001b[1m\u001b[33m4\u001b[00m\u001b[0m \u001b[1m\u001b[33m6\u001b[00m\u001b[0m \u001b[1m\u001b[43m1\u001b[00m\u001b[0m \u001b[1m\u001b[37m7\u001b[00m\u001b[0m \u001b[1m\u001b[37m8\u001b[00m\u001b[0m \u001b[1m\u001b[37m3\u001b[00m\u001b[0m \u001b[1m\u001b[37m9\u001b[00m\u001b[0m \u001b[1m\u001b[37m2\u001b[00m\u001b[0m \u001b[1m\u001b[37m7\u001b[00m\u001b[0m \u001b[1m\u001b[37m6\u001b[00m\u001b[0m \u001b[1m\u001b[37m3\u001b[00m\u001b[0m \n",
      "\u001b[1m\u001b[33m1\u001b[00m\u001b[0m \u001b[1m\u001b[33m2\u001b[00m\u001b[0m \u001b[1m\u001b[33m4\u001b[00m\u001b[0m \u001b[1m\u001b[33m6\u001b[00m\u001b[0m \u001b[1m\u001b[43m7\u001b[00m\u001b[0m \u001b[1m\u001b[37m8\u001b[00m\u001b[0m \u001b[1m\u001b[37m3\u001b[00m\u001b[0m \u001b[1m\u001b[37m9\u001b[00m\u001b[0m \u001b[1m\u001b[37m2\u001b[00m\u001b[0m \u001b[1m\u001b[37m7\u001b[00m\u001b[0m \u001b[1m\u001b[37m6\u001b[00m\u001b[0m \u001b[1m\u001b[37m3\u001b[00m\u001b[0m \n",
      "\u001b[1m\u001b[32m1\u001b[00m\u001b[0m \u001b[1m\u001b[32m2\u001b[00m\u001b[0m \u001b[1m\u001b[32m4\u001b[00m\u001b[0m \u001b[1m\u001b[32m6\u001b[00m\u001b[0m \u001b[1m\u001b[33m7\u001b[00m\u001b[0m \u001b[1m\u001b[43m8\u001b[00m\u001b[0m \u001b[1m\u001b[37m3\u001b[00m\u001b[0m \u001b[1m\u001b[37m9\u001b[00m\u001b[0m \u001b[1m\u001b[37m2\u001b[00m\u001b[0m \u001b[1m\u001b[37m7\u001b[00m\u001b[0m \u001b[1m\u001b[37m6\u001b[00m\u001b[0m \u001b[1m\u001b[37m3\u001b[00m\u001b[0m \n",
      "\u001b[1m\u001b[32m1\u001b[00m\u001b[0m \u001b[1m\u001b[32m2\u001b[00m\u001b[0m \u001b[1m\u001b[32m4\u001b[00m\u001b[0m \u001b[1m\u001b[32m6\u001b[00m\u001b[0m \u001b[1m\u001b[32m7\u001b[00m\u001b[0m \u001b[1m\u001b[33m8\u001b[00m\u001b[0m \u001b[1m\u001b[43m3\u001b[00m\u001b[0m \u001b[1m\u001b[37m9\u001b[00m\u001b[0m \u001b[1m\u001b[37m2\u001b[00m\u001b[0m \u001b[1m\u001b[37m7\u001b[00m\u001b[0m \u001b[1m\u001b[37m6\u001b[00m\u001b[0m \u001b[1m\u001b[37m3\u001b[00m\u001b[0m \n",
      "\u001b[1m\u001b[32m1\u001b[00m\u001b[0m \u001b[1m\u001b[32m2\u001b[00m\u001b[0m \u001b[1m\u001b[33m3\u001b[00m\u001b[0m \u001b[1m\u001b[33m4\u001b[00m\u001b[0m \u001b[1m\u001b[33m6\u001b[00m\u001b[0m \u001b[1m\u001b[33m7\u001b[00m\u001b[0m \u001b[1m\u001b[33m8\u001b[00m\u001b[0m \u001b[1m\u001b[43m9\u001b[00m\u001b[0m \u001b[1m\u001b[37m2\u001b[00m\u001b[0m \u001b[1m\u001b[37m7\u001b[00m\u001b[0m \u001b[1m\u001b[37m6\u001b[00m\u001b[0m \u001b[1m\u001b[37m3\u001b[00m\u001b[0m \n",
      "\u001b[1m\u001b[32m1\u001b[00m\u001b[0m \u001b[1m\u001b[32m2\u001b[00m\u001b[0m \u001b[1m\u001b[32m3\u001b[00m\u001b[0m \u001b[1m\u001b[32m4\u001b[00m\u001b[0m \u001b[1m\u001b[32m6\u001b[00m\u001b[0m \u001b[1m\u001b[32m7\u001b[00m\u001b[0m \u001b[1m\u001b[32m8\u001b[00m\u001b[0m \u001b[1m\u001b[33m9\u001b[00m\u001b[0m \u001b[1m\u001b[43m2\u001b[00m\u001b[0m \u001b[1m\u001b[37m7\u001b[00m\u001b[0m \u001b[1m\u001b[37m6\u001b[00m\u001b[0m \u001b[1m\u001b[37m3\u001b[00m\u001b[0m \n",
      "\u001b[1m\u001b[32m1\u001b[00m\u001b[0m \u001b[1m\u001b[32m2\u001b[00m\u001b[0m \u001b[1m\u001b[33m2\u001b[00m\u001b[0m \u001b[1m\u001b[33m3\u001b[00m\u001b[0m \u001b[1m\u001b[33m4\u001b[00m\u001b[0m \u001b[1m\u001b[33m6\u001b[00m\u001b[0m \u001b[1m\u001b[33m7\u001b[00m\u001b[0m \u001b[1m\u001b[33m8\u001b[00m\u001b[0m \u001b[1m\u001b[33m9\u001b[00m\u001b[0m \u001b[1m\u001b[43m7\u001b[00m\u001b[0m \u001b[1m\u001b[37m6\u001b[00m\u001b[0m \u001b[1m\u001b[37m3\u001b[00m\u001b[0m \n",
      "\u001b[1m\u001b[32m1\u001b[00m\u001b[0m \u001b[1m\u001b[32m2\u001b[00m\u001b[0m \u001b[1m\u001b[32m2\u001b[00m\u001b[0m \u001b[1m\u001b[32m3\u001b[00m\u001b[0m \u001b[1m\u001b[32m4\u001b[00m\u001b[0m \u001b[1m\u001b[32m6\u001b[00m\u001b[0m \u001b[1m\u001b[32m7\u001b[00m\u001b[0m \u001b[1m\u001b[33m7\u001b[00m\u001b[0m \u001b[1m\u001b[33m8\u001b[00m\u001b[0m \u001b[1m\u001b[33m9\u001b[00m\u001b[0m \u001b[1m\u001b[43m6\u001b[00m\u001b[0m \u001b[1m\u001b[37m3\u001b[00m\u001b[0m \n",
      "\u001b[1m\u001b[32m1\u001b[00m\u001b[0m \u001b[1m\u001b[32m2\u001b[00m\u001b[0m \u001b[1m\u001b[32m2\u001b[00m\u001b[0m \u001b[1m\u001b[32m3\u001b[00m\u001b[0m \u001b[1m\u001b[32m4\u001b[00m\u001b[0m \u001b[1m\u001b[32m6\u001b[00m\u001b[0m \u001b[1m\u001b[33m6\u001b[00m\u001b[0m \u001b[1m\u001b[33m7\u001b[00m\u001b[0m \u001b[1m\u001b[33m7\u001b[00m\u001b[0m \u001b[1m\u001b[33m8\u001b[00m\u001b[0m \u001b[1m\u001b[33m9\u001b[00m\u001b[0m \u001b[1m\u001b[43m3\u001b[00m\u001b[0m \n",
      "\u001b[1m\u001b[32m1\u001b[00m\u001b[0m \u001b[1m\u001b[32m2\u001b[00m\u001b[0m \u001b[1m\u001b[32m2\u001b[00m\u001b[0m \u001b[1m\u001b[32m3\u001b[00m\u001b[0m \u001b[1m\u001b[32m3\u001b[00m\u001b[0m \u001b[1m\u001b[32m4\u001b[00m\u001b[0m \u001b[1m\u001b[32m6\u001b[00m\u001b[0m \u001b[1m\u001b[32m6\u001b[00m\u001b[0m \u001b[1m\u001b[32m7\u001b[00m\u001b[0m \u001b[1m\u001b[32m7\u001b[00m\u001b[0m \u001b[1m\u001b[32m8\u001b[00m\u001b[0m \u001b[1m\u001b[32m9\u001b[00m\u001b[0m "
     ]
    }
   ],
   "source": [
    "test = [6,2,4,1,7,8,3,9,2,7,6,3]\n",
    "show_insertion_sort(test)"
   ]
  },
  {
   "cell_type": "markdown",
   "metadata": {},
   "source": [
    "**Performantie**\n",
    "\n",
    "Wat is de snelheid van dit algoritme? De eerste keer moeten we een\n",
    "element tussenvoegen in een lijst van lengte $0$. De tweede keer moeten\n",
    "we een element tussenvoegen in een lijst van lengte $1$. De derde keer\n",
    "moeten we een element tussenvoegen in een lijst van lengte $2$.\n",
    "Enzoverder. De laatste keer moeten we een element toevoegen in een lijst\n",
    "van lengte $n-1$. In het allerslechtste geval is de data omgekeerd\n",
    "gesorteerd. In dat geval kost een element toevoegen in een lijst van\n",
    "lengte $i$ ons $O(i)$ computationele stappen. In totaal krijgen we dus\n",
    "$\\displaystyle\\sum_{i=1}^{n-1}{i} = \\frac{1}{2}n(n-1) = O(n^{2})$\n",
    "stappen. Insertion sort heeft een interessante best-case. Indien we de\n",
    "functie oproepen met een lijst die reeds gesorteerd is zal het\n",
    "tussenvoegen slechts 1 stapje vereisen (vergewis je hiervan met onderstaande trace). In dat\n",
    "geval is de totale hoeveelheid werk dus slechts $O(n)$. Inderdaad, de\n",
    "functie `sort` zal met de `for` alle elementen beschouwen en ze\n",
    "tussenvoegen (in 1 stap)."
   ]
  },
  {
   "cell_type": "code",
   "execution_count": 28,
   "metadata": {},
   "outputs": [
    {
     "name": "stdout",
     "output_type": "stream",
     "text": [
      "\u001b[1m\u001b[34m1\u001b[00m\u001b[0m \u001b[1m\u001b[34m2\u001b[00m\u001b[0m \u001b[1m\u001b[34m3\u001b[00m\u001b[0m \u001b[1m\u001b[34m4\u001b[00m\u001b[0m \u001b[1m\u001b[34m5\u001b[00m\u001b[0m \u001b[1m\u001b[34m6\u001b[00m\u001b[0m \u001b[1m\u001b[34m7\u001b[00m\u001b[0m \u001b[1m\u001b[34m8\u001b[00m\u001b[0m \u001b[1m\u001b[34m9\u001b[00m\u001b[0m \n",
      "\u001b[1m\u001b[43m1\u001b[00m\u001b[0m \u001b[1m\u001b[37m2\u001b[00m\u001b[0m \u001b[1m\u001b[37m3\u001b[00m\u001b[0m \u001b[1m\u001b[37m4\u001b[00m\u001b[0m \u001b[1m\u001b[37m5\u001b[00m\u001b[0m \u001b[1m\u001b[37m6\u001b[00m\u001b[0m \u001b[1m\u001b[37m7\u001b[00m\u001b[0m \u001b[1m\u001b[37m8\u001b[00m\u001b[0m \u001b[1m\u001b[37m9\u001b[00m\u001b[0m \n",
      "\u001b[1m\u001b[33m1\u001b[00m\u001b[0m \u001b[1m\u001b[43m2\u001b[00m\u001b[0m \u001b[1m\u001b[37m3\u001b[00m\u001b[0m \u001b[1m\u001b[37m4\u001b[00m\u001b[0m \u001b[1m\u001b[37m5\u001b[00m\u001b[0m \u001b[1m\u001b[37m6\u001b[00m\u001b[0m \u001b[1m\u001b[37m7\u001b[00m\u001b[0m \u001b[1m\u001b[37m8\u001b[00m\u001b[0m \u001b[1m\u001b[37m9\u001b[00m\u001b[0m \n",
      "\u001b[1m\u001b[32m1\u001b[00m\u001b[0m \u001b[1m\u001b[33m2\u001b[00m\u001b[0m \u001b[1m\u001b[43m3\u001b[00m\u001b[0m \u001b[1m\u001b[37m4\u001b[00m\u001b[0m \u001b[1m\u001b[37m5\u001b[00m\u001b[0m \u001b[1m\u001b[37m6\u001b[00m\u001b[0m \u001b[1m\u001b[37m7\u001b[00m\u001b[0m \u001b[1m\u001b[37m8\u001b[00m\u001b[0m \u001b[1m\u001b[37m9\u001b[00m\u001b[0m \n",
      "\u001b[1m\u001b[32m1\u001b[00m\u001b[0m \u001b[1m\u001b[32m2\u001b[00m\u001b[0m \u001b[1m\u001b[33m3\u001b[00m\u001b[0m \u001b[1m\u001b[43m4\u001b[00m\u001b[0m \u001b[1m\u001b[37m5\u001b[00m\u001b[0m \u001b[1m\u001b[37m6\u001b[00m\u001b[0m \u001b[1m\u001b[37m7\u001b[00m\u001b[0m \u001b[1m\u001b[37m8\u001b[00m\u001b[0m \u001b[1m\u001b[37m9\u001b[00m\u001b[0m \n",
      "\u001b[1m\u001b[32m1\u001b[00m\u001b[0m \u001b[1m\u001b[32m2\u001b[00m\u001b[0m \u001b[1m\u001b[32m3\u001b[00m\u001b[0m \u001b[1m\u001b[33m4\u001b[00m\u001b[0m \u001b[1m\u001b[43m5\u001b[00m\u001b[0m \u001b[1m\u001b[37m6\u001b[00m\u001b[0m \u001b[1m\u001b[37m7\u001b[00m\u001b[0m \u001b[1m\u001b[37m8\u001b[00m\u001b[0m \u001b[1m\u001b[37m9\u001b[00m\u001b[0m \n",
      "\u001b[1m\u001b[32m1\u001b[00m\u001b[0m \u001b[1m\u001b[32m2\u001b[00m\u001b[0m \u001b[1m\u001b[32m3\u001b[00m\u001b[0m \u001b[1m\u001b[32m4\u001b[00m\u001b[0m \u001b[1m\u001b[33m5\u001b[00m\u001b[0m \u001b[1m\u001b[43m6\u001b[00m\u001b[0m \u001b[1m\u001b[37m7\u001b[00m\u001b[0m \u001b[1m\u001b[37m8\u001b[00m\u001b[0m \u001b[1m\u001b[37m9\u001b[00m\u001b[0m \n",
      "\u001b[1m\u001b[32m1\u001b[00m\u001b[0m \u001b[1m\u001b[32m2\u001b[00m\u001b[0m \u001b[1m\u001b[32m3\u001b[00m\u001b[0m \u001b[1m\u001b[32m4\u001b[00m\u001b[0m \u001b[1m\u001b[32m5\u001b[00m\u001b[0m \u001b[1m\u001b[33m6\u001b[00m\u001b[0m \u001b[1m\u001b[43m7\u001b[00m\u001b[0m \u001b[1m\u001b[37m8\u001b[00m\u001b[0m \u001b[1m\u001b[37m9\u001b[00m\u001b[0m \n",
      "\u001b[1m\u001b[32m1\u001b[00m\u001b[0m \u001b[1m\u001b[32m2\u001b[00m\u001b[0m \u001b[1m\u001b[32m3\u001b[00m\u001b[0m \u001b[1m\u001b[32m4\u001b[00m\u001b[0m \u001b[1m\u001b[32m5\u001b[00m\u001b[0m \u001b[1m\u001b[32m6\u001b[00m\u001b[0m \u001b[1m\u001b[33m7\u001b[00m\u001b[0m \u001b[1m\u001b[43m8\u001b[00m\u001b[0m \u001b[1m\u001b[37m9\u001b[00m\u001b[0m \n",
      "\u001b[1m\u001b[32m1\u001b[00m\u001b[0m \u001b[1m\u001b[32m2\u001b[00m\u001b[0m \u001b[1m\u001b[32m3\u001b[00m\u001b[0m \u001b[1m\u001b[32m4\u001b[00m\u001b[0m \u001b[1m\u001b[32m5\u001b[00m\u001b[0m \u001b[1m\u001b[32m6\u001b[00m\u001b[0m \u001b[1m\u001b[32m7\u001b[00m\u001b[0m \u001b[1m\u001b[33m8\u001b[00m\u001b[0m \u001b[1m\u001b[43m9\u001b[00m\u001b[0m \n",
      "\u001b[1m\u001b[32m1\u001b[00m\u001b[0m \u001b[1m\u001b[32m2\u001b[00m\u001b[0m \u001b[1m\u001b[32m3\u001b[00m\u001b[0m \u001b[1m\u001b[32m4\u001b[00m\u001b[0m \u001b[1m\u001b[32m5\u001b[00m\u001b[0m \u001b[1m\u001b[32m6\u001b[00m\u001b[0m \u001b[1m\u001b[32m7\u001b[00m\u001b[0m \u001b[1m\u001b[32m8\u001b[00m\u001b[0m \u001b[1m\u001b[32m9\u001b[00m\u001b[0m "
     ]
    }
   ],
   "source": [
    "test = [1,2,3,4,5,6,7,8,9]\n",
    "show_insertion_sort(test)"
   ]
  },
  {
   "cell_type": "markdown",
   "metadata": {},
   "source": [
    "### Quicksort\n",
    "\n",
    "Zowel `insertion_sort` als `bubbel_sort` algoritmen vertonen dus een $O(n^2)$ gedrag. \n",
    "Men zou kunnen denken dat dit het lot des levens is indien we een computer\n",
    "willen laten sorteren, maar dit is gelukkig niet het geval. We gaan nu\n",
    "over tot de bespreking van een algoritme dat veel sneller is. Het werd\n",
    "in de jaren $60$ uitgevonden door C.A.R. Hoare en staat bekend onder de\n",
    "naam *quicksort*. We zullen aantonen dat quicksort een performantie\n",
    "heeft die in $O(n.log(n))$ zit. Quicksort is niet het enige\n",
    "sorteeralgoritme dat in $O(n.log(n))$ zit maar wel het meest beroemde.\n",
    "<p style=\"text-align:center;\"><img src=\"quick_sort_hoare.gif\"></p>\n",
    "We zullen het quicksort algoritme uitleggen in zijn simpelste (nogal inefficiënte) versie. Zodat het begrijpen van het principe centraal staat. "
   ]
  },
  {
   "cell_type": "code",
   "execution_count": 29,
   "metadata": {},
   "outputs": [],
   "source": [
    "def simple_quicksort(lst):\n",
    "    if len(lst)<=1:\n",
    "        return lst\n",
    "    else:\n",
    "        pivot = lst[0]  # Kies het eerste element als de pivot\n",
    "        lesser = []     # Lijst voor elementen kleiner dan de pivot\n",
    "        greater = []    # Lijst voor elementen groter dan of gelijk aan de pivot\n",
    "    \n",
    "        for x in lst[1:]:\n",
    "            if x < pivot:\n",
    "                lesser.append(x)\n",
    "            else:\n",
    "                greater.append(x)\n",
    "    \n",
    "        # Recursief sorteren van de kleinere en grotere lijsten\n",
    "        return simple_quicksort(lesser) + [pivot] + simple_quicksort(greater)"
   ]
  },
  {
   "cell_type": "markdown",
   "metadata": {},
   "source": [
    "Quicksort is een recursief (hierover later meer) algoritme dat een lijst opbreekt in\n",
    "deellijsten. Indien de invoerlijst leeg is of maar uit 1 element bestaat, is het sorteren triviaal en\n",
    "is het resultaat dezelfde lijst. Anders beschouwen\n",
    "we het element op de eerste plaats (t.t.z. `lst[0]`). We zullen dit\n",
    "element de *pivot* noemen. Dan lopen we door de lijst `lst` en plukken\n",
    "we er alle elementen uit die strikt kleiner zijn dan het pivot element\n",
    "en plukken we er alle elementen uit die groter zijn dan het pivot\n",
    "element. Dit resulteert in twee nieuwe lijsten die we allebei recursief\n",
    "sorteren. Het eindresultaat bestaat dan uit de gesorteerde lijst van\n",
    "elementen die kleiner zijn dan de pivot, gevolgd door de pivot, gevolgd\n",
    "door de gesorteerde lijst van elementen die groter zijn dan de pivot.\n",
    "\n",
    "Bovenstaande code is nogal inefficiënt onder andere omdat tijdens de recursie er in iedere recursieve oproep twee *nieuwe* lijsten gemaakt worden. Dit gebeurt door de twee list comprehensions in de code. Alle elementen worden door Python uit `lst` gekopieerd naar de nieuwe lijsten `lesser` en `greater`. \n",
    "    \n",
    "Een gevolg van dit laatste is dat wanneer we deze versie van het algoritme testen door een lijstje te maken en de `simple_quicksort`  functie erop los te laten er een nieuwe lijst wordt teruggegeven die inderdaad dezelfde elementen als de originele lijst bevat in de juiste volgorde. Maar de originele lijst is niet veranderd."
   ]
  },
  {
   "cell_type": "code",
   "execution_count": 30,
   "metadata": {},
   "outputs": [],
   "source": [
    "test = [\"jan\", \"ann\",\"ils\",\"jef\", \"mia\"]"
   ]
  },
  {
   "cell_type": "code",
   "execution_count": 31,
   "metadata": {},
   "outputs": [
    {
     "data": {
      "text/plain": [
       "['ann', 'ils', 'jan', 'jef', 'mia']"
      ]
     },
     "execution_count": 31,
     "metadata": {},
     "output_type": "execute_result"
    }
   ],
   "source": [
    "simple_quicksort(test)"
   ]
  },
  {
   "cell_type": "code",
   "execution_count": 32,
   "metadata": {},
   "outputs": [
    {
     "data": {
      "text/plain": [
       "['jan', 'ann', 'ils', 'jef', 'mia']"
      ]
     },
     "execution_count": 32,
     "metadata": {},
     "output_type": "execute_result"
    }
   ],
   "source": [
    "test"
   ]
  },
  {
   "cell_type": "markdown",
   "metadata": {},
   "source": [
    "**Performantie**\n",
    "\n",
    "Om de snelheid van quicksort te bepalen zullen we het totaal aantal\n",
    "stappen tellen dat het algoritme dient uit te voeren. Al wat we dienen\n",
    "te doen is de som te nemen van het totaal aantal stappen die ooit door\n",
    "het algoritme zullen uitgevoerd worden. \n",
    "\n",
    "*Best-case Analyse:*\n",
    "\n",
    "In het beste geval hebben we steeds zeer veel geluk en zal de pivot\n",
    "    zodanig zijn dat er precies evenveel elementen kleiner dan de pivot\n",
    "    zijn, als er elementen zijn die groter dan de pivot zijn. In dat\n",
    "    geval wordt de lijst tussen `l` en `r` op ieder recursieniveau\n",
    "    perfect in tweeën verdeeld. In beide recursieve oproepen tesamen\n",
    "    zullen er opnieuw twee pivot's worden goedgestoken. Bijgevolg is de Big O in het beste geval $O(n.log(n))$\n",
    "\n",
    "*Worst-case Analyse:*\n",
    "\n",
    "Maar we kunnen echter ook heel veel tegenslag hebben. Stel dat we\n",
    "    quicksort toepassen op een lijst die reeds gesorteerd is. In dat geval zal de pivot steeds het\n",
    "    kleinste element zijn van alle elementen tussen `l` en `r`. Er\n",
    "    zullen dus *geen* elementen links van de pivot komen en alle\n",
    "    elementen zullen rechts van de pivot komen te staan. In ieder niveau\n",
    "    van de recursie wordt er dus slechts $1$ stapje minder werk gedaan\n",
    "    dan in het vorige niveau. De linkse\n",
    "    recursieve oproep zal dus geen werk verrichten en meteen terugkeren.\n",
    "    De rechtse recursieve oproep moet al het werk doen, behalve het ene\n",
    "    stapje van het vorige niveau. Dit geeft $O(n^{2})$\n",
    "    \n",
    "Onderstaande trace illustreert dit. "
   ]
  },
  {
   "cell_type": "code",
   "execution_count": 33,
   "metadata": {},
   "outputs": [
    {
     "name": "stdout",
     "output_type": "stream",
     "text": [
      "\u001b[1m\u001b[43m1\u001b[00m\u001b[0m \u001b[1m\u001b[34m2\u001b[00m\u001b[0m \u001b[1m\u001b[34m3\u001b[00m\u001b[0m \u001b[1m\u001b[34m4\u001b[00m\u001b[0m \u001b[1m\u001b[34m5\u001b[00m\u001b[0m \u001b[1m\u001b[34m6\u001b[00m\u001b[0m \u001b[1m\u001b[34m7\u001b[00m\u001b[0m \u001b[1m\u001b[34m8\u001b[00m\u001b[0m \u001b[1m\u001b[34m9\u001b[00m\u001b[0m \n",
      "\u001b[1m\u001b[42m1\u001b[00m\u001b[0m \u001b[1m\u001b[33m2\u001b[00m\u001b[0m \u001b[1m\u001b[33m3\u001b[00m\u001b[0m \u001b[1m\u001b[33m4\u001b[00m\u001b[0m \u001b[1m\u001b[33m5\u001b[00m\u001b[0m \u001b[1m\u001b[33m6\u001b[00m\u001b[0m \u001b[1m\u001b[33m7\u001b[00m\u001b[0m \u001b[1m\u001b[33m8\u001b[00m\u001b[0m \u001b[1m\u001b[33m9\u001b[00m\u001b[0m \n",
      "  \u001b[1m\u001b[43m2\u001b[00m\u001b[0m \u001b[1m\u001b[34m3\u001b[00m\u001b[0m \u001b[1m\u001b[34m4\u001b[00m\u001b[0m \u001b[1m\u001b[34m5\u001b[00m\u001b[0m \u001b[1m\u001b[34m6\u001b[00m\u001b[0m \u001b[1m\u001b[34m7\u001b[00m\u001b[0m \u001b[1m\u001b[34m8\u001b[00m\u001b[0m \u001b[1m\u001b[34m9\u001b[00m\u001b[0m \n",
      "  \u001b[1m\u001b[42m2\u001b[00m\u001b[0m \u001b[1m\u001b[33m3\u001b[00m\u001b[0m \u001b[1m\u001b[33m4\u001b[00m\u001b[0m \u001b[1m\u001b[33m5\u001b[00m\u001b[0m \u001b[1m\u001b[33m6\u001b[00m\u001b[0m \u001b[1m\u001b[33m7\u001b[00m\u001b[0m \u001b[1m\u001b[33m8\u001b[00m\u001b[0m \u001b[1m\u001b[33m9\u001b[00m\u001b[0m \n",
      "    \u001b[1m\u001b[43m3\u001b[00m\u001b[0m \u001b[1m\u001b[34m4\u001b[00m\u001b[0m \u001b[1m\u001b[34m5\u001b[00m\u001b[0m \u001b[1m\u001b[34m6\u001b[00m\u001b[0m \u001b[1m\u001b[34m7\u001b[00m\u001b[0m \u001b[1m\u001b[34m8\u001b[00m\u001b[0m \u001b[1m\u001b[34m9\u001b[00m\u001b[0m \n",
      "    \u001b[1m\u001b[42m3\u001b[00m\u001b[0m \u001b[1m\u001b[33m4\u001b[00m\u001b[0m \u001b[1m\u001b[33m5\u001b[00m\u001b[0m \u001b[1m\u001b[33m6\u001b[00m\u001b[0m \u001b[1m\u001b[33m7\u001b[00m\u001b[0m \u001b[1m\u001b[33m8\u001b[00m\u001b[0m \u001b[1m\u001b[33m9\u001b[00m\u001b[0m \n",
      "      \u001b[1m\u001b[43m4\u001b[00m\u001b[0m \u001b[1m\u001b[34m5\u001b[00m\u001b[0m \u001b[1m\u001b[34m6\u001b[00m\u001b[0m \u001b[1m\u001b[34m7\u001b[00m\u001b[0m \u001b[1m\u001b[34m8\u001b[00m\u001b[0m \u001b[1m\u001b[34m9\u001b[00m\u001b[0m \n",
      "      \u001b[1m\u001b[42m4\u001b[00m\u001b[0m \u001b[1m\u001b[33m5\u001b[00m\u001b[0m \u001b[1m\u001b[33m6\u001b[00m\u001b[0m \u001b[1m\u001b[33m7\u001b[00m\u001b[0m \u001b[1m\u001b[33m8\u001b[00m\u001b[0m \u001b[1m\u001b[33m9\u001b[00m\u001b[0m \n",
      "        \u001b[1m\u001b[43m5\u001b[00m\u001b[0m \u001b[1m\u001b[34m6\u001b[00m\u001b[0m \u001b[1m\u001b[34m7\u001b[00m\u001b[0m \u001b[1m\u001b[34m8\u001b[00m\u001b[0m \u001b[1m\u001b[34m9\u001b[00m\u001b[0m \n",
      "        \u001b[1m\u001b[42m5\u001b[00m\u001b[0m \u001b[1m\u001b[33m6\u001b[00m\u001b[0m \u001b[1m\u001b[33m7\u001b[00m\u001b[0m \u001b[1m\u001b[33m8\u001b[00m\u001b[0m \u001b[1m\u001b[33m9\u001b[00m\u001b[0m \n",
      "          \u001b[1m\u001b[43m6\u001b[00m\u001b[0m \u001b[1m\u001b[34m7\u001b[00m\u001b[0m \u001b[1m\u001b[34m8\u001b[00m\u001b[0m \u001b[1m\u001b[34m9\u001b[00m\u001b[0m \n",
      "          \u001b[1m\u001b[42m6\u001b[00m\u001b[0m \u001b[1m\u001b[33m7\u001b[00m\u001b[0m \u001b[1m\u001b[33m8\u001b[00m\u001b[0m \u001b[1m\u001b[33m9\u001b[00m\u001b[0m \n",
      "            \u001b[1m\u001b[43m7\u001b[00m\u001b[0m \u001b[1m\u001b[34m8\u001b[00m\u001b[0m \u001b[1m\u001b[34m9\u001b[00m\u001b[0m \n",
      "            \u001b[1m\u001b[42m7\u001b[00m\u001b[0m \u001b[1m\u001b[33m8\u001b[00m\u001b[0m \u001b[1m\u001b[33m9\u001b[00m\u001b[0m \n",
      "              \u001b[1m\u001b[43m8\u001b[00m\u001b[0m \u001b[1m\u001b[34m9\u001b[00m\u001b[0m \n",
      "              \u001b[1m\u001b[42m8\u001b[00m\u001b[0m \u001b[1m\u001b[33m9\u001b[00m\u001b[0m \n",
      "                \u001b[1m\u001b[42m9\u001b[00m\u001b[0m \n",
      "              \u001b[1m\u001b[42m8\u001b[00m\u001b[0m \u001b[1m\u001b[32m9\u001b[00m\u001b[0m \n",
      "            \u001b[1m\u001b[42m7\u001b[00m\u001b[0m \u001b[1m\u001b[32m8\u001b[00m\u001b[0m \u001b[1m\u001b[32m9\u001b[00m\u001b[0m \n",
      "          \u001b[1m\u001b[42m6\u001b[00m\u001b[0m \u001b[1m\u001b[32m7\u001b[00m\u001b[0m \u001b[1m\u001b[32m8\u001b[00m\u001b[0m \u001b[1m\u001b[32m9\u001b[00m\u001b[0m \n",
      "        \u001b[1m\u001b[42m5\u001b[00m\u001b[0m \u001b[1m\u001b[32m6\u001b[00m\u001b[0m \u001b[1m\u001b[32m7\u001b[00m\u001b[0m \u001b[1m\u001b[32m8\u001b[00m\u001b[0m \u001b[1m\u001b[32m9\u001b[00m\u001b[0m \n",
      "      \u001b[1m\u001b[42m4\u001b[00m\u001b[0m \u001b[1m\u001b[32m5\u001b[00m\u001b[0m \u001b[1m\u001b[32m6\u001b[00m\u001b[0m \u001b[1m\u001b[32m7\u001b[00m\u001b[0m \u001b[1m\u001b[32m8\u001b[00m\u001b[0m \u001b[1m\u001b[32m9\u001b[00m\u001b[0m \n",
      "    \u001b[1m\u001b[42m3\u001b[00m\u001b[0m \u001b[1m\u001b[32m4\u001b[00m\u001b[0m \u001b[1m\u001b[32m5\u001b[00m\u001b[0m \u001b[1m\u001b[32m6\u001b[00m\u001b[0m \u001b[1m\u001b[32m7\u001b[00m\u001b[0m \u001b[1m\u001b[32m8\u001b[00m\u001b[0m \u001b[1m\u001b[32m9\u001b[00m\u001b[0m \n",
      "  \u001b[1m\u001b[42m2\u001b[00m\u001b[0m \u001b[1m\u001b[32m3\u001b[00m\u001b[0m \u001b[1m\u001b[32m4\u001b[00m\u001b[0m \u001b[1m\u001b[32m5\u001b[00m\u001b[0m \u001b[1m\u001b[32m6\u001b[00m\u001b[0m \u001b[1m\u001b[32m7\u001b[00m\u001b[0m \u001b[1m\u001b[32m8\u001b[00m\u001b[0m \u001b[1m\u001b[32m9\u001b[00m\u001b[0m \n",
      "\u001b[1m\u001b[42m1\u001b[00m\u001b[0m \u001b[1m\u001b[32m2\u001b[00m\u001b[0m \u001b[1m\u001b[32m3\u001b[00m\u001b[0m \u001b[1m\u001b[32m4\u001b[00m\u001b[0m \u001b[1m\u001b[32m5\u001b[00m\u001b[0m \u001b[1m\u001b[32m6\u001b[00m\u001b[0m \u001b[1m\u001b[32m7\u001b[00m\u001b[0m \u001b[1m\u001b[32m8\u001b[00m\u001b[0m \u001b[1m\u001b[32m9\u001b[00m\u001b[0m \n"
     ]
    }
   ],
   "source": [
    "test = [1,2,3,4,5,6,7,8,9]\n",
    "show_simple_quicksort(test)"
   ]
  },
  {
   "cell_type": "markdown",
   "metadata": {},
   "source": [
    "Een gelijkaardig scenario doet zich voor bij een invoerlijst die *omgekeerd* gesorteerd is. Er\n",
    "    zullen nu *geen* elementen rechts van de pivot komen en alle\n",
    "    elementen zullen links van de pivot komen te staan. In ieder niveau\n",
    "    van de recursie wordt er dus slechts $1$ stapje minder werk gedaan\n",
    "    dan in het vorige niveau. De rechtse\n",
    "    recursieve oproep zal dus geen werk verrichten en meteen terugkeren.\n",
    "    De linkse recursieve oproep moet al het werk doen, behalve het ene\n",
    "    stapje van het vorige niveau. We krijgen dus in totaal $n$\n",
    "    recursieve oproepen zoals de trace hieronder illustreert."
   ]
  },
  {
   "cell_type": "code",
   "execution_count": 34,
   "metadata": {},
   "outputs": [
    {
     "name": "stdout",
     "output_type": "stream",
     "text": [
      "\u001b[1m\u001b[43m9\u001b[00m\u001b[0m \u001b[1m\u001b[34m8\u001b[00m\u001b[0m \u001b[1m\u001b[34m7\u001b[00m\u001b[0m \u001b[1m\u001b[34m6\u001b[00m\u001b[0m \u001b[1m\u001b[34m5\u001b[00m\u001b[0m \u001b[1m\u001b[34m4\u001b[00m\u001b[0m \u001b[1m\u001b[34m3\u001b[00m\u001b[0m \u001b[1m\u001b[34m2\u001b[00m\u001b[0m \u001b[1m\u001b[34m1\u001b[00m\u001b[0m \n",
      "\u001b[1m\u001b[33m8\u001b[00m\u001b[0m \u001b[1m\u001b[33m7\u001b[00m\u001b[0m \u001b[1m\u001b[33m6\u001b[00m\u001b[0m \u001b[1m\u001b[33m5\u001b[00m\u001b[0m \u001b[1m\u001b[33m4\u001b[00m\u001b[0m \u001b[1m\u001b[33m3\u001b[00m\u001b[0m \u001b[1m\u001b[33m2\u001b[00m\u001b[0m \u001b[1m\u001b[33m1\u001b[00m\u001b[0m \u001b[1m\u001b[42m9\u001b[00m\u001b[0m \n",
      "\u001b[1m\u001b[43m8\u001b[00m\u001b[0m \u001b[1m\u001b[34m7\u001b[00m\u001b[0m \u001b[1m\u001b[34m6\u001b[00m\u001b[0m \u001b[1m\u001b[34m5\u001b[00m\u001b[0m \u001b[1m\u001b[34m4\u001b[00m\u001b[0m \u001b[1m\u001b[34m3\u001b[00m\u001b[0m \u001b[1m\u001b[34m2\u001b[00m\u001b[0m \u001b[1m\u001b[34m1\u001b[00m\u001b[0m \n",
      "\u001b[1m\u001b[33m7\u001b[00m\u001b[0m \u001b[1m\u001b[33m6\u001b[00m\u001b[0m \u001b[1m\u001b[33m5\u001b[00m\u001b[0m \u001b[1m\u001b[33m4\u001b[00m\u001b[0m \u001b[1m\u001b[33m3\u001b[00m\u001b[0m \u001b[1m\u001b[33m2\u001b[00m\u001b[0m \u001b[1m\u001b[33m1\u001b[00m\u001b[0m \u001b[1m\u001b[42m8\u001b[00m\u001b[0m \n",
      "\u001b[1m\u001b[43m7\u001b[00m\u001b[0m \u001b[1m\u001b[34m6\u001b[00m\u001b[0m \u001b[1m\u001b[34m5\u001b[00m\u001b[0m \u001b[1m\u001b[34m4\u001b[00m\u001b[0m \u001b[1m\u001b[34m3\u001b[00m\u001b[0m \u001b[1m\u001b[34m2\u001b[00m\u001b[0m \u001b[1m\u001b[34m1\u001b[00m\u001b[0m \n",
      "\u001b[1m\u001b[33m6\u001b[00m\u001b[0m \u001b[1m\u001b[33m5\u001b[00m\u001b[0m \u001b[1m\u001b[33m4\u001b[00m\u001b[0m \u001b[1m\u001b[33m3\u001b[00m\u001b[0m \u001b[1m\u001b[33m2\u001b[00m\u001b[0m \u001b[1m\u001b[33m1\u001b[00m\u001b[0m \u001b[1m\u001b[42m7\u001b[00m\u001b[0m \n",
      "\u001b[1m\u001b[43m6\u001b[00m\u001b[0m \u001b[1m\u001b[34m5\u001b[00m\u001b[0m \u001b[1m\u001b[34m4\u001b[00m\u001b[0m \u001b[1m\u001b[34m3\u001b[00m\u001b[0m \u001b[1m\u001b[34m2\u001b[00m\u001b[0m \u001b[1m\u001b[34m1\u001b[00m\u001b[0m \n",
      "\u001b[1m\u001b[33m5\u001b[00m\u001b[0m \u001b[1m\u001b[33m4\u001b[00m\u001b[0m \u001b[1m\u001b[33m3\u001b[00m\u001b[0m \u001b[1m\u001b[33m2\u001b[00m\u001b[0m \u001b[1m\u001b[33m1\u001b[00m\u001b[0m \u001b[1m\u001b[42m6\u001b[00m\u001b[0m \n",
      "\u001b[1m\u001b[43m5\u001b[00m\u001b[0m \u001b[1m\u001b[34m4\u001b[00m\u001b[0m \u001b[1m\u001b[34m3\u001b[00m\u001b[0m \u001b[1m\u001b[34m2\u001b[00m\u001b[0m \u001b[1m\u001b[34m1\u001b[00m\u001b[0m \n",
      "\u001b[1m\u001b[33m4\u001b[00m\u001b[0m \u001b[1m\u001b[33m3\u001b[00m\u001b[0m \u001b[1m\u001b[33m2\u001b[00m\u001b[0m \u001b[1m\u001b[33m1\u001b[00m\u001b[0m \u001b[1m\u001b[42m5\u001b[00m\u001b[0m \n",
      "\u001b[1m\u001b[43m4\u001b[00m\u001b[0m \u001b[1m\u001b[34m3\u001b[00m\u001b[0m \u001b[1m\u001b[34m2\u001b[00m\u001b[0m \u001b[1m\u001b[34m1\u001b[00m\u001b[0m \n",
      "\u001b[1m\u001b[33m3\u001b[00m\u001b[0m \u001b[1m\u001b[33m2\u001b[00m\u001b[0m \u001b[1m\u001b[33m1\u001b[00m\u001b[0m \u001b[1m\u001b[42m4\u001b[00m\u001b[0m \n",
      "\u001b[1m\u001b[43m3\u001b[00m\u001b[0m \u001b[1m\u001b[34m2\u001b[00m\u001b[0m \u001b[1m\u001b[34m1\u001b[00m\u001b[0m \n",
      "\u001b[1m\u001b[33m2\u001b[00m\u001b[0m \u001b[1m\u001b[33m1\u001b[00m\u001b[0m \u001b[1m\u001b[42m3\u001b[00m\u001b[0m \n",
      "\u001b[1m\u001b[43m2\u001b[00m\u001b[0m \u001b[1m\u001b[34m1\u001b[00m\u001b[0m \n",
      "\u001b[1m\u001b[33m1\u001b[00m\u001b[0m \u001b[1m\u001b[42m2\u001b[00m\u001b[0m \n",
      "\u001b[1m\u001b[42m1\u001b[00m\u001b[0m \n",
      "\u001b[1m\u001b[32m1\u001b[00m\u001b[0m \u001b[1m\u001b[42m2\u001b[00m\u001b[0m \n",
      "\u001b[1m\u001b[32m1\u001b[00m\u001b[0m \u001b[1m\u001b[32m2\u001b[00m\u001b[0m \u001b[1m\u001b[42m3\u001b[00m\u001b[0m \n",
      "\u001b[1m\u001b[32m1\u001b[00m\u001b[0m \u001b[1m\u001b[32m2\u001b[00m\u001b[0m \u001b[1m\u001b[32m3\u001b[00m\u001b[0m \u001b[1m\u001b[42m4\u001b[00m\u001b[0m \n",
      "\u001b[1m\u001b[32m1\u001b[00m\u001b[0m \u001b[1m\u001b[32m2\u001b[00m\u001b[0m \u001b[1m\u001b[32m3\u001b[00m\u001b[0m \u001b[1m\u001b[32m4\u001b[00m\u001b[0m \u001b[1m\u001b[42m5\u001b[00m\u001b[0m \n",
      "\u001b[1m\u001b[32m1\u001b[00m\u001b[0m \u001b[1m\u001b[32m2\u001b[00m\u001b[0m \u001b[1m\u001b[32m3\u001b[00m\u001b[0m \u001b[1m\u001b[32m4\u001b[00m\u001b[0m \u001b[1m\u001b[32m5\u001b[00m\u001b[0m \u001b[1m\u001b[42m6\u001b[00m\u001b[0m \n",
      "\u001b[1m\u001b[32m1\u001b[00m\u001b[0m \u001b[1m\u001b[32m2\u001b[00m\u001b[0m \u001b[1m\u001b[32m3\u001b[00m\u001b[0m \u001b[1m\u001b[32m4\u001b[00m\u001b[0m \u001b[1m\u001b[32m5\u001b[00m\u001b[0m \u001b[1m\u001b[32m6\u001b[00m\u001b[0m \u001b[1m\u001b[42m7\u001b[00m\u001b[0m \n",
      "\u001b[1m\u001b[32m1\u001b[00m\u001b[0m \u001b[1m\u001b[32m2\u001b[00m\u001b[0m \u001b[1m\u001b[32m3\u001b[00m\u001b[0m \u001b[1m\u001b[32m4\u001b[00m\u001b[0m \u001b[1m\u001b[32m5\u001b[00m\u001b[0m \u001b[1m\u001b[32m6\u001b[00m\u001b[0m \u001b[1m\u001b[32m7\u001b[00m\u001b[0m \u001b[1m\u001b[42m8\u001b[00m\u001b[0m \n",
      "\u001b[1m\u001b[32m1\u001b[00m\u001b[0m \u001b[1m\u001b[32m2\u001b[00m\u001b[0m \u001b[1m\u001b[32m3\u001b[00m\u001b[0m \u001b[1m\u001b[32m4\u001b[00m\u001b[0m \u001b[1m\u001b[32m5\u001b[00m\u001b[0m \u001b[1m\u001b[32m6\u001b[00m\u001b[0m \u001b[1m\u001b[32m7\u001b[00m\u001b[0m \u001b[1m\u001b[32m8\u001b[00m\u001b[0m \u001b[1m\u001b[42m9\u001b[00m\u001b[0m \n"
     ]
    }
   ],
   "source": [
    "test = [9,8,7,6,5,4,3,2,1]\n",
    "show_simple_quicksort(test)"
   ]
  },
  {
   "cell_type": "markdown",
   "metadata": {},
   "source": [
    "### Experimentele Verificatie\n",
    "\n",
    "Het is leerrijk om de theoretische studie m.b.v. $O$ te vergelijken met de echte data. We gebruiken in de experimenten \n",
    "lijsten met random getallen er in. We doen hiervoor beroep op de functie `randint` in de module `random`. Deze geeft een willekeurig getal weer dat tussen beide parameters ligt. `randint(1,100)` geeft bijvoorbeeld een willekeurig getal tussen $1$ en $100$. \n",
    "\n",
    "Een lijst genereren van een gevraagde lengte met getallen die random gekozen zijn tussen grenzen 1 en `n//2` kan makkelijk met een *list comprehension* zoals hieronder in de functie `generate_lst` gebeurt. De reden waarom we getallen genereren binnen grenzen die afhangen van de lengte van de lijst is om de kans dat een zelfde getal meer dan 1 keer voorkomt in alle lengtes van lijsten even groot te maken."
   ]
  },
  {
   "cell_type": "code",
   "execution_count": 35,
   "metadata": {},
   "outputs": [],
   "source": [
    "import random\n",
    "\n",
    "def generate_lst(n):\n",
    "    return [random.randint(1,n//2) for i in range(0,n)]"
   ]
  },
  {
   "cell_type": "markdown",
   "metadata": {},
   "source": [
    "Het timen van de functieaanroep gebeurt zoals we al eerder deden met de `time` module."
   ]
  },
  {
   "cell_type": "code",
   "execution_count": 36,
   "metadata": {},
   "outputs": [],
   "source": [
    "import time\n",
    "\n",
    "def time_insertion_sort(lst):\n",
    "    t1 = time.time()\n",
    "    insertion_sort(lst)\n",
    "    t2 = time.time() \n",
    "    return (t2-t1)\n",
    "\n",
    "def time_bubbel_sort(lst):\n",
    "    t1 = time.time()\n",
    "    bubbel_sort(lst)\n",
    "    t2 = time.time() \n",
    "    return (t2-t1)\n",
    "\n",
    "def time_simple_quicksort(lst):\n",
    "    t1 = time.time()\n",
    "    simple_quicksort(lst)\n",
    "    t2 = time.time() \n",
    "    return (t2-t1)"
   ]
  },
  {
   "cell_type": "markdown",
   "metadata": {},
   "source": [
    "Met behulp van Matplotlib gaan we nu 3 grafieken uitzetten door de tijdmetingen te doen voor de 3 algoritmen voor random gegenereerde lijsten met lengtes oplopend van $m$ tot $10$ keer $m$ met stappen van $m$. Dat kan door voor alle `n` in de `range(m,m*10+1,m)` een lijst te genereren met lengte `n`, het sorteren van de lijst te timen, en de meetwaarden uit te zetten. Let op, voor grote $m$ kan dit wel eventjes duren."
   ]
  },
  {
   "cell_type": "code",
   "execution_count": 37,
   "metadata": {},
   "outputs": [],
   "source": [
    "import matplotlib.pyplot as plt"
   ]
  },
  {
   "cell_type": "code",
   "execution_count": 38,
   "metadata": {},
   "outputs": [],
   "source": [
    "def plot_all_sort_algo(m):\n",
    "    x_values = list(range(m,m*10+1,m))\n",
    "    y_values = [time_insertion_sort(generate_lst(n)) for n in range(m,m*10+1,m)]\n",
    "    plt.plot(x_values,y_values, 'g^', label = \"InsSort\")\n",
    "    y_values = [time_bubbel_sort(generate_lst(n)) for n in range(m,m*10+1,m)]\n",
    "    plt.plot(x_values,y_values, 'ro', label = \"BubSort\")\n",
    "    y_values = [time_simple_quicksort(generate_lst(n)) for n in range(m,m*10+1,m)]\n",
    "    plt.plot(x_values,y_values, 'yd', label = \"Quicksort\")\n",
    "    plt.ylabel('execution times for 3 sorting algorithms')\n",
    "    plt.legend()\n",
    "    plt.show()        \n",
    "    return \"plot finished\""
   ]
  },
  {
   "cell_type": "markdown",
   "metadata": {},
   "source": [
    "Het resultaat voor lijsten met lengtes van 1000,2000,..., tot 10.000 wordt getoond in onderstaande figuur. De theoretische voorspellingen worden netjes experimenteel bevestigd. De grafieken voor insertion sort en bubbel sort zijn parabolen. De grafiek voor quicksort is veel platter. Een lijst sorteren met 10.000 elementen met een basis sorteeralgoritme neemt al enige tijd. De tijd die quicksort nodig heeft is significant kleiner. In twee kleine experimenten onder de grafiek zie je dat quicksort een lijst van 1 miljoen elementen kan sorteren binnen de tijd die insertion-sort nodig heeft om tienduizend elementen te sorteren."
   ]
  },
  {
   "cell_type": "code",
   "execution_count": 42,
   "metadata": {},
   "outputs": [
    {
     "data": {
      "image/png": "[encoded data removed]",
      "text/plain": [
       "<Figure size 640x480 with 1 Axes>"
      ]
     },
     "metadata": {},
     "output_type": "display_data"
    },
    {
     "data": {
      "text/plain": [
       "'plot finished'"
      ]
     },
     "execution_count": 42,
     "metadata": {},
     "output_type": "execute_result"
    }
   ],
   "source": [
    "plot_all_sort_algo(1000)"
   ]
  },
  {
   "cell_type": "code",
   "execution_count": 40,
   "metadata": {},
   "outputs": [
    {
     "data": {
      "text/plain": [
       "1.8669118881225586"
      ]
     },
     "execution_count": 40,
     "metadata": {},
     "output_type": "execute_result"
    }
   ],
   "source": [
    "test = generate_lst(10000)\n",
    "time_insertion_sort(test)       "
   ]
  },
  {
   "cell_type": "code",
   "execution_count": 41,
   "metadata": {},
   "outputs": [
    {
     "data": {
      "text/plain": [
       "1.8753583431243896"
      ]
     },
     "execution_count": 41,
     "metadata": {},
     "output_type": "execute_result"
    }
   ],
   "source": [
    "test = generate_lst(1000000)\n",
    "time_simple_quicksort(test)       "
   ]
  }
 ],
 "metadata": {
  "kernelspec": {
   "display_name": "Python 3 (ipykernel)",
   "language": "python",
   "name": "python3"
  },
  "language_info": {
   "codemirror_mode": {
    "name": "ipython",
    "version": 3
   },
   "file_extension": ".py",
   "mimetype": "text/x-python",
   "name": "python",
   "nbconvert_exporter": "python",
   "pygments_lexer": "ipython3",
   "version": "3.11.7"
  },
  "latex_envs": {
   "LaTeX_envs_menu_present": true,
   "autoclose": false,
   "autocomplete": true,
   "bibliofile": "biblio.bib",
   "cite_by": "apalike",
   "current_citInitial": 1,
   "eqLabelWithNumbers": true,
   "eqNumInitial": 1,
   "hotkeys": {
    "equation": "Ctrl-E",
    "itemize": "Ctrl-I"
   },
   "labels_anchors": false,
   "latex_user_defs": false,
   "report_style_numbering": false,
   "user_envs_cfg": false
  },
  "toc": {
   "base_numbering": 1,
   "nav_menu": {},
   "number_sections": true,
   "sideBar": true,
   "skip_h1_title": false,
   "title_cell": "Table of Contents",
   "title_sidebar": "Contents",
   "toc_cell": false,
   "toc_position": {},
   "toc_section_display": true,
   "toc_window_display": true
  },
  "varInspector": {
   "cols": {
    "lenName": 16,
    "lenType": 16,
    "lenVar": 40
   },
   "kernels_config": {
    "python": {
     "delete_cmd_postfix": "",
     "delete_cmd_prefix": "del ",
     "library": "var_list.py",
     "varRefreshCmd": "print(var_dic_list())"
    },
    "r": {
     "delete_cmd_postfix": ") ",
     "delete_cmd_prefix": "rm(",
     "library": "var_list.r",
     "varRefreshCmd": "cat(var_dic_list()) "
    }
   },
   "types_to_exclude": [
    "module",
    "function",
    "builtin_function_or_method",
    "instance",
    "_Feature"
   ],
   "window_display": false
  }
 },
 "nbformat": 4,
 "nbformat_minor": 4
}
